{
  "cells": [
    {
      "metadata": {
        "_uuid": "8587bfcf48b6837f96276bb9c832c47dbe86dc5a"
      },
      "cell_type": "markdown",
      "source": "## Context\n### This dataset is originally from the National Institute of Diabetes and Digestive and Kidney Diseases. The objective of the dataset is to diagnostically predict whether or not a patient has diabetes, based on certain diagnostic measurements included in the dataset. Several constraints were placed on the selection of these instances from a larger database. In particular, all patients here are females at least 21 years old of Pima Indian heritage.\n\n## Content\n### The datasets consists of several medical predictor variables and one target variable, Outcome. Predictor variables includes the number of pregnancies the patient has had, their BMI, insulin level, age, and so on.\n\n## Inspiration\n### Can you build a machine learning model to accurately predict whether or not the patients in the dataset have diabetes or not?"
    },
    {
      "metadata": {
        "collapsed": true,
        "trusted": true,
        "_uuid": "66ec7eb698073f9fe5e7ff5fa2f58d282f6dfe85"
      },
      "cell_type": "code",
      "source": "import pandas as pd",
      "execution_count": 1,
      "outputs": []
    },
    {
      "metadata": {
        "trusted": true,
        "_uuid": "8103660ddb8c0e45e6e582566bceda95acc118f0"
      },
      "cell_type": "code",
      "source": "Diabetes = pd.read_csv(\"../input/diabetes.csv\")",
      "execution_count": 3,
      "outputs": []
    },
    {
      "metadata": {
        "trusted": true,
        "_uuid": "55260e21fbabd75230e3bc8b2c56213407365fd3"
      },
      "cell_type": "code",
      "source": "Diabetes.head()",
      "execution_count": 4,
      "outputs": [
        {
          "output_type": "execute_result",
          "execution_count": 4,
          "data": {
            "text/plain": "   Pregnancies  Glucose   ...     Age  Outcome\n0            6      148   ...      50        1\n1            1       85   ...      31        0\n2            8      183   ...      32        1\n3            1       89   ...      21        0\n4            0      137   ...      33        1\n\n[5 rows x 9 columns]",
            "text/html": "<div>\n<style scoped>\n    .dataframe tbody tr th:only-of-type {\n        vertical-align: middle;\n    }\n\n    .dataframe tbody tr th {\n        vertical-align: top;\n    }\n\n    .dataframe thead th {\n        text-align: right;\n    }\n</style>\n<table border=\"1\" class=\"dataframe\">\n  <thead>\n    <tr style=\"text-align: right;\">\n      <th></th>\n      <th>Pregnancies</th>\n      <th>Glucose</th>\n      <th>BloodPressure</th>\n      <th>SkinThickness</th>\n      <th>Insulin</th>\n      <th>BMI</th>\n      <th>DiabetesPedigreeFunction</th>\n      <th>Age</th>\n      <th>Outcome</th>\n    </tr>\n  </thead>\n  <tbody>\n    <tr>\n      <th>0</th>\n      <td>6</td>\n      <td>148</td>\n      <td>72</td>\n      <td>35</td>\n      <td>0</td>\n      <td>33.6</td>\n      <td>0.627</td>\n      <td>50</td>\n      <td>1</td>\n    </tr>\n    <tr>\n      <th>1</th>\n      <td>1</td>\n      <td>85</td>\n      <td>66</td>\n      <td>29</td>\n      <td>0</td>\n      <td>26.6</td>\n      <td>0.351</td>\n      <td>31</td>\n      <td>0</td>\n    </tr>\n    <tr>\n      <th>2</th>\n      <td>8</td>\n      <td>183</td>\n      <td>64</td>\n      <td>0</td>\n      <td>0</td>\n      <td>23.3</td>\n      <td>0.672</td>\n      <td>32</td>\n      <td>1</td>\n    </tr>\n    <tr>\n      <th>3</th>\n      <td>1</td>\n      <td>89</td>\n      <td>66</td>\n      <td>23</td>\n      <td>94</td>\n      <td>28.1</td>\n      <td>0.167</td>\n      <td>21</td>\n      <td>0</td>\n    </tr>\n    <tr>\n      <th>4</th>\n      <td>0</td>\n      <td>137</td>\n      <td>40</td>\n      <td>35</td>\n      <td>168</td>\n      <td>43.1</td>\n      <td>2.288</td>\n      <td>33</td>\n      <td>1</td>\n    </tr>\n  </tbody>\n</table>\n</div>"
          },
          "metadata": {}
        }
      ]
    },
    {
      "metadata": {
        "_uuid": "48eb1ca3db2c08a2f5e0873a0cdbfb9ed4d6bbb5"
      },
      "cell_type": "markdown",
      "source": "## Binary classification problem\n\n### We need to clean the data by normalizing it "
    },
    {
      "metadata": {
        "trusted": true,
        "_uuid": "3ee6d9aa01e1d2149a917208d2419632097a0da1"
      },
      "cell_type": "code",
      "source": "Diabetes.columns",
      "execution_count": 5,
      "outputs": [
        {
          "output_type": "execute_result",
          "execution_count": 5,
          "data": {
            "text/plain": "Index(['Pregnancies', 'Glucose', 'BloodPressure', 'SkinThickness', 'Insulin',\n       'BMI', 'DiabetesPedigreeFunction', 'Age', 'Outcome'],\n      dtype='object')"
          },
          "metadata": {}
        }
      ]
    },
    {
      "metadata": {
        "collapsed": true,
        "trusted": true,
        "_uuid": "8b2ef50e277025cf4f995713952023dfa93084fc"
      },
      "cell_type": "code",
      "source": "colums_to_norm = ['Pregnancies', 'Glucose', 'BloodPressure', 'SkinThickness',\n       'Insulin', 'BMI', 'DiabetesPedigreeFunction']",
      "execution_count": 8,
      "outputs": []
    },
    {
      "metadata": {
        "trusted": true,
        "_uuid": "ed12b45eb9dbeb575d0b6cb189d220a1ef646a2d"
      },
      "cell_type": "code",
      "source": "Diabetes[colums_to_norm] = Diabetes[colums_to_norm].apply(lambda x : (x - x.min()) / (x.max() - x.min()))",
      "execution_count": 9,
      "outputs": []
    },
    {
      "metadata": {
        "trusted": true,
        "_uuid": "1c7ed19b18cb465d08fa11a2cafe51f6638e39b2"
      },
      "cell_type": "code",
      "source": "Diabetes.head()",
      "execution_count": 10,
      "outputs": [
        {
          "output_type": "execute_result",
          "execution_count": 10,
          "data": {
            "text/plain": "   Pregnancies   Glucose   ...     Age  Outcome\n0     0.352941  0.743719   ...      50        1\n1     0.058824  0.427136   ...      31        0\n2     0.470588  0.919598   ...      32        1\n3     0.058824  0.447236   ...      21        0\n4     0.000000  0.688442   ...      33        1\n\n[5 rows x 9 columns]",
            "text/html": "<div>\n<style scoped>\n    .dataframe tbody tr th:only-of-type {\n        vertical-align: middle;\n    }\n\n    .dataframe tbody tr th {\n        vertical-align: top;\n    }\n\n    .dataframe thead th {\n        text-align: right;\n    }\n</style>\n<table border=\"1\" class=\"dataframe\">\n  <thead>\n    <tr style=\"text-align: right;\">\n      <th></th>\n      <th>Pregnancies</th>\n      <th>Glucose</th>\n      <th>BloodPressure</th>\n      <th>SkinThickness</th>\n      <th>Insulin</th>\n      <th>BMI</th>\n      <th>DiabetesPedigreeFunction</th>\n      <th>Age</th>\n      <th>Outcome</th>\n    </tr>\n  </thead>\n  <tbody>\n    <tr>\n      <th>0</th>\n      <td>0.352941</td>\n      <td>0.743719</td>\n      <td>0.590164</td>\n      <td>0.353535</td>\n      <td>0.000000</td>\n      <td>0.500745</td>\n      <td>0.234415</td>\n      <td>50</td>\n      <td>1</td>\n    </tr>\n    <tr>\n      <th>1</th>\n      <td>0.058824</td>\n      <td>0.427136</td>\n      <td>0.540984</td>\n      <td>0.292929</td>\n      <td>0.000000</td>\n      <td>0.396423</td>\n      <td>0.116567</td>\n      <td>31</td>\n      <td>0</td>\n    </tr>\n    <tr>\n      <th>2</th>\n      <td>0.470588</td>\n      <td>0.919598</td>\n      <td>0.524590</td>\n      <td>0.000000</td>\n      <td>0.000000</td>\n      <td>0.347243</td>\n      <td>0.253629</td>\n      <td>32</td>\n      <td>1</td>\n    </tr>\n    <tr>\n      <th>3</th>\n      <td>0.058824</td>\n      <td>0.447236</td>\n      <td>0.540984</td>\n      <td>0.232323</td>\n      <td>0.111111</td>\n      <td>0.418778</td>\n      <td>0.038002</td>\n      <td>21</td>\n      <td>0</td>\n    </tr>\n    <tr>\n      <th>4</th>\n      <td>0.000000</td>\n      <td>0.688442</td>\n      <td>0.327869</td>\n      <td>0.353535</td>\n      <td>0.198582</td>\n      <td>0.642325</td>\n      <td>0.943638</td>\n      <td>33</td>\n      <td>1</td>\n    </tr>\n  </tbody>\n</table>\n</div>"
          },
          "metadata": {}
        }
      ]
    },
    {
      "metadata": {
        "collapsed": true,
        "trusted": true,
        "_uuid": "db935602746278153c11a2b6cdd9382db231d92e"
      },
      "cell_type": "code",
      "source": "import tensorflow as tf",
      "execution_count": 11,
      "outputs": []
    },
    {
      "metadata": {
        "collapsed": true,
        "trusted": true,
        "_uuid": "9f0905c5aa3b1a3f8dda5ddba53bca5853c667e0"
      },
      "cell_type": "code",
      "source": "num_preg = tf.feature_column.numeric_column('Pregnancies')\nplasma_gluc = tf.feature_column.numeric_column('Glucose')\nblood_press = tf.feature_column.numeric_column('BloodPressure')\ntricep = tf.feature_column.numeric_column('SkinThickness')\ninsulin = tf.feature_column.numeric_column('Insulin')\nbmi = tf.feature_column.numeric_column('BMI')\ndiabetes_pedigree = tf.feature_column.numeric_column('DiabetesPedigreeFunction')\nage = tf.feature_column.numeric_column('Age')",
      "execution_count": 12,
      "outputs": []
    },
    {
      "metadata": {
        "_uuid": "8ad09d3a714f1ba274f6ff8670afe401fc1f02fe"
      },
      "cell_type": "markdown",
      "source": "## The Age feature column wasn't normalized as we can use this data in a better way by grouping age groups into buckets"
    },
    {
      "metadata": {
        "trusted": true,
        "collapsed": true,
        "_uuid": "3536b010f6d9c2181d2d49a3a496cd8ecc41db97"
      },
      "cell_type": "code",
      "source": "import matplotlib.pyplot as plt\n%matplotlib inline",
      "execution_count": 13,
      "outputs": []
    },
    {
      "metadata": {
        "trusted": true,
        "_uuid": "d6e41ba0a66d883f9ab03a0280a7b42be4037239"
      },
      "cell_type": "code",
      "source": "Diabetes['Age'].hist(bins = 20)",
      "execution_count": 14,
      "outputs": [
        {
          "output_type": "execute_result",
          "execution_count": 14,
          "data": {
            "text/plain": "<matplotlib.axes._subplots.AxesSubplot at 0x7fe09bf21588>"
          },
          "metadata": {}
        },
        {
          "output_type": "display_data",
          "data": {
            "text/plain": "<matplotlib.figure.Figure at 0x7fe09bf03c50>",
            "image/png": "[encoded data removed]"
          },
          "metadata": {}
        }
      ]
    },
    {
      "metadata": {
        "_uuid": "7670c790f127c078ad93c2b5d82e894195f4a7e0"
      },
      "cell_type": "markdown",
      "source": "## Creating the age buckets"
    },
    {
      "metadata": {
        "trusted": true,
        "collapsed": true,
        "_uuid": "43548efa78a80012ef8c25a967adf970e248ef56"
      },
      "cell_type": "code",
      "source": "age_bucket = tf.feature_column.bucketized_column(age, boundaries = [20, 30, 40, 50, 60, 70, 80])",
      "execution_count": 15,
      "outputs": []
    },
    {
      "metadata": {
        "trusted": true,
        "collapsed": true,
        "_uuid": "303d429f8808cde67adaac0fe62d1b1d484ecd1c"
      },
      "cell_type": "code",
      "source": "feat_cols = [num_preg, plasma_gluc, blood_press, tricep, insulin, bmi, diabetes_pedigree, age_bucket]",
      "execution_count": 16,
      "outputs": []
    },
    {
      "metadata": {
        "_uuid": "0223ce32342128d7dea3cedcae461255615827d4"
      },
      "cell_type": "markdown",
      "source": "## Let's split the data into training and test sets"
    },
    {
      "metadata": {
        "collapsed": true,
        "trusted": true,
        "_uuid": "095edd9fc61768e1ca5995aa5d375f01ede9656d"
      },
      "cell_type": "code",
      "source": "from sklearn.model_selection import train_test_split",
      "execution_count": 17,
      "outputs": []
    },
    {
      "metadata": {
        "trusted": true,
        "_uuid": "002c4ef0b208debb8f2052e774af4d34e39d55eb"
      },
      "cell_type": "code",
      "source": "x_data = Diabetes.drop('Outcome', axis = 1)",
      "execution_count": 19,
      "outputs": []
    },
    {
      "metadata": {
        "trusted": true,
        "_uuid": "ff31f5d4c57aac834e7e03eb44b459abc355caa7"
      },
      "cell_type": "code",
      "source": "x_data.head()",
      "execution_count": 20,
      "outputs": [
        {
          "output_type": "execute_result",
          "execution_count": 20,
          "data": {
            "text/plain": "   Pregnancies   Glucose ...   DiabetesPedigreeFunction  Age\n0     0.352941  0.743719 ...                   0.234415   50\n1     0.058824  0.427136 ...                   0.116567   31\n2     0.470588  0.919598 ...                   0.253629   32\n3     0.058824  0.447236 ...                   0.038002   21\n4     0.000000  0.688442 ...                   0.943638   33\n\n[5 rows x 8 columns]",
            "text/html": "<div>\n<style scoped>\n    .dataframe tbody tr th:only-of-type {\n        vertical-align: middle;\n    }\n\n    .dataframe tbody tr th {\n        vertical-align: top;\n    }\n\n    .dataframe thead th {\n        text-align: right;\n    }\n</style>\n<table border=\"1\" class=\"dataframe\">\n  <thead>\n    <tr style=\"text-align: right;\">\n      <th></th>\n      <th>Pregnancies</th>\n      <th>Glucose</th>\n      <th>BloodPressure</th>\n      <th>SkinThickness</th>\n      <th>Insulin</th>\n      <th>BMI</th>\n      <th>DiabetesPedigreeFunction</th>\n      <th>Age</th>\n    </tr>\n  </thead>\n  <tbody>\n    <tr>\n      <th>0</th>\n      <td>0.352941</td>\n      <td>0.743719</td>\n      <td>0.590164</td>\n      <td>0.353535</td>\n      <td>0.000000</td>\n      <td>0.500745</td>\n      <td>0.234415</td>\n      <td>50</td>\n    </tr>\n    <tr>\n      <th>1</th>\n      <td>0.058824</td>\n      <td>0.427136</td>\n      <td>0.540984</td>\n      <td>0.292929</td>\n      <td>0.000000</td>\n      <td>0.396423</td>\n      <td>0.116567</td>\n      <td>31</td>\n    </tr>\n    <tr>\n      <th>2</th>\n      <td>0.470588</td>\n      <td>0.919598</td>\n      <td>0.524590</td>\n      <td>0.000000</td>\n      <td>0.000000</td>\n      <td>0.347243</td>\n      <td>0.253629</td>\n      <td>32</td>\n    </tr>\n    <tr>\n      <th>3</th>\n      <td>0.058824</td>\n      <td>0.447236</td>\n      <td>0.540984</td>\n      <td>0.232323</td>\n      <td>0.111111</td>\n      <td>0.418778</td>\n      <td>0.038002</td>\n      <td>21</td>\n    </tr>\n    <tr>\n      <th>4</th>\n      <td>0.000000</td>\n      <td>0.688442</td>\n      <td>0.327869</td>\n      <td>0.353535</td>\n      <td>0.198582</td>\n      <td>0.642325</td>\n      <td>0.943638</td>\n      <td>33</td>\n    </tr>\n  </tbody>\n</table>\n</div>"
          },
          "metadata": {}
        }
      ]
    },
    {
      "metadata": {
        "collapsed": true,
        "trusted": true,
        "_uuid": "953097fee1398f8b0b5b05425493feaa18fae00b"
      },
      "cell_type": "code",
      "source": "y_data = Diabetes['Outcome']",
      "execution_count": 21,
      "outputs": []
    },
    {
      "metadata": {
        "trusted": true,
        "_uuid": "cf079ea7d506dfce635fded4c04383367e217ba0"
      },
      "cell_type": "code",
      "source": "y_data.head()",
      "execution_count": 22,
      "outputs": [
        {
          "output_type": "execute_result",
          "execution_count": 22,
          "data": {
            "text/plain": "0    1\n1    0\n2    1\n3    0\n4    1\nName: Outcome, dtype: int64"
          },
          "metadata": {}
        }
      ]
    },
    {
      "metadata": {
        "trusted": true,
        "collapsed": true,
        "_uuid": "ce323812d37ae7370b5008822ea91cd445b91834"
      },
      "cell_type": "code",
      "source": "X_train, X_test, y_train, y_test = train_test_split(x_data, y_data, test_size = 0.3)",
      "execution_count": 23,
      "outputs": []
    },
    {
      "metadata": {
        "_uuid": "d1632592ee965cd6a0548fc9d1746195b17b4eee"
      },
      "cell_type": "markdown",
      "source": "## Creating the input functions"
    },
    {
      "metadata": {
        "collapsed": true,
        "trusted": true,
        "_uuid": "9367697ea48e1fb324e3d68817c9ee3493de4d7d"
      },
      "cell_type": "code",
      "source": "input_func = tf.estimator.inputs.pandas_input_fn(x = X_train, y = y_train, batch_size = 16, num_epochs = 1000, shuffle = True)",
      "execution_count": 24,
      "outputs": []
    },
    {
      "metadata": {
        "trusted": true,
        "_uuid": "37004ad6e0a9608195f5e50c6c15d58ff7d62318"
      },
      "cell_type": "code",
      "source": "model = tf.estimator.LinearClassifier(feature_columns = feat_cols, n_classes = 2)",
      "execution_count": 25,
      "outputs": [
        {
          "output_type": "stream",
          "text": "INFO:tensorflow:Using default config.\nWARNING:tensorflow:Using temporary folder as model directory: /tmp/tmplq97frb0\nINFO:tensorflow:Using config: {'_model_dir': '/tmp/tmplq97frb0', '_tf_random_seed': None, '_save_summary_steps': 100, '_save_checkpoints_steps': None, '_save_checkpoints_secs': 600, '_session_config': None, '_keep_checkpoint_max': 5, '_keep_checkpoint_every_n_hours': 10000, '_log_step_count_steps': 100, '_train_distribute': None, '_device_fn': None, '_service': None, '_cluster_spec': <tensorflow.python.training.server_lib.ClusterSpec object at 0x7fe093583da0>, '_task_type': 'worker', '_task_id': 0, '_global_id_in_cluster': 0, '_master': '', '_evaluation_master': '', '_is_chief': True, '_num_ps_replicas': 0, '_num_worker_replicas': 1}\n",
          "name": "stdout"
        }
      ]
    },
    {
      "metadata": {
        "trusted": true,
        "_uuid": "aa90ad537cd7290a10083714854975b7b907d90b"
      },
      "cell_type": "code",
      "source": "model.train(input_fn = input_func, steps = 10000)",
      "execution_count": 41,
      "outputs": [
        {
          "output_type": "stream",
          "text": "INFO:tensorflow:Calling model_fn.\nINFO:tensorflow:Done calling model_fn.\nINFO:tensorflow:Create CheckpointSaverHook.\nINFO:tensorflow:Graph was finalized.\nINFO:tensorflow:Restoring parameters from /tmp/tmplq97frb0/model.ckpt-1000\nINFO:tensorflow:Running local_init_op.\nINFO:tensorflow:Done running local_init_op.\nINFO:tensorflow:Saving checkpoints for 1000 into /tmp/tmplq97frb0/model.ckpt.\nINFO:tensorflow:loss = 6.78952, step = 1001\nINFO:tensorflow:global_step/sec: 297.866\nINFO:tensorflow:loss = 7.37066, step = 1101 (0.336 sec)\nINFO:tensorflow:global_step/sec: 478.285\nINFO:tensorflow:loss = 6.617, step = 1201 (0.209 sec)\nINFO:tensorflow:global_step/sec: 487.586\nINFO:tensorflow:loss = 8.54723, step = 1301 (0.205 sec)\nINFO:tensorflow:global_step/sec: 509.47\nINFO:tensorflow:loss = 5.69714, step = 1401 (0.196 sec)\nINFO:tensorflow:global_step/sec: 486.688\nINFO:tensorflow:loss = 6.22456, step = 1501 (0.205 sec)\nINFO:tensorflow:global_step/sec: 471.424\nINFO:tensorflow:loss = 8.21747, step = 1601 (0.212 sec)\nINFO:tensorflow:global_step/sec: 491.383\nINFO:tensorflow:loss = 6.54109, step = 1701 (0.204 sec)\nINFO:tensorflow:global_step/sec: 488.18\nINFO:tensorflow:loss = 10.1755, step = 1801 (0.205 sec)\nINFO:tensorflow:global_step/sec: 483.4\nINFO:tensorflow:loss = 6.24677, step = 1901 (0.207 sec)\nINFO:tensorflow:global_step/sec: 530.039\nINFO:tensorflow:loss = 7.31166, step = 2001 (0.189 sec)\nINFO:tensorflow:global_step/sec: 470.377\nINFO:tensorflow:loss = 7.78622, step = 2101 (0.213 sec)\nINFO:tensorflow:global_step/sec: 454.702\nINFO:tensorflow:loss = 9.09282, step = 2201 (0.220 sec)\nINFO:tensorflow:global_step/sec: 460.655\nINFO:tensorflow:loss = 4.94691, step = 2301 (0.217 sec)\nINFO:tensorflow:global_step/sec: 490.889\nINFO:tensorflow:loss = 8.57439, step = 2401 (0.204 sec)\nINFO:tensorflow:global_step/sec: 506.109\nINFO:tensorflow:loss = 9.53474, step = 2501 (0.197 sec)\nINFO:tensorflow:global_step/sec: 503.403\nINFO:tensorflow:loss = 9.34129, step = 2601 (0.199 sec)\nINFO:tensorflow:global_step/sec: 502.855\nINFO:tensorflow:loss = 6.51924, step = 2701 (0.199 sec)\nINFO:tensorflow:global_step/sec: 502.6\nINFO:tensorflow:loss = 7.48364, step = 2801 (0.199 sec)\nINFO:tensorflow:global_step/sec: 449.308\nINFO:tensorflow:loss = 8.8361, step = 2901 (0.222 sec)\nINFO:tensorflow:global_step/sec: 450.31\nINFO:tensorflow:loss = 9.25872, step = 3001 (0.223 sec)\nINFO:tensorflow:global_step/sec: 457.193\nINFO:tensorflow:loss = 9.21208, step = 3101 (0.218 sec)\nINFO:tensorflow:global_step/sec: 494.081\nINFO:tensorflow:loss = 7.31921, step = 3201 (0.202 sec)\nINFO:tensorflow:global_step/sec: 481.924\nINFO:tensorflow:loss = 8.34486, step = 3301 (0.207 sec)\nINFO:tensorflow:global_step/sec: 482.998\nINFO:tensorflow:loss = 7.69874, step = 3401 (0.207 sec)\nINFO:tensorflow:global_step/sec: 446.991\nINFO:tensorflow:loss = 5.56088, step = 3501 (0.224 sec)\nINFO:tensorflow:global_step/sec: 440.928\nINFO:tensorflow:loss = 7.54454, step = 3601 (0.227 sec)\nINFO:tensorflow:global_step/sec: 464.029\nINFO:tensorflow:loss = 8.65797, step = 3701 (0.216 sec)\nINFO:tensorflow:global_step/sec: 440.192\nINFO:tensorflow:loss = 6.05851, step = 3801 (0.227 sec)\nINFO:tensorflow:global_step/sec: 467.75\nINFO:tensorflow:loss = 6.18995, step = 3901 (0.214 sec)\nINFO:tensorflow:global_step/sec: 459.793\nINFO:tensorflow:loss = 9.11056, step = 4001 (0.217 sec)\nINFO:tensorflow:global_step/sec: 455.149\nINFO:tensorflow:loss = 6.91356, step = 4101 (0.220 sec)\nINFO:tensorflow:global_step/sec: 468.428\nINFO:tensorflow:loss = 8.2153, step = 4201 (0.213 sec)\nINFO:tensorflow:global_step/sec: 451.683\nINFO:tensorflow:loss = 5.02345, step = 4301 (0.222 sec)\nINFO:tensorflow:global_step/sec: 456.867\nINFO:tensorflow:loss = 6.0869, step = 4401 (0.219 sec)\nINFO:tensorflow:global_step/sec: 474.4\nINFO:tensorflow:loss = 6.181, step = 4501 (0.211 sec)\nINFO:tensorflow:global_step/sec: 463.035\nINFO:tensorflow:loss = 8.67834, step = 4601 (0.216 sec)\nINFO:tensorflow:global_step/sec: 469.105\nINFO:tensorflow:loss = 8.07987, step = 4701 (0.213 sec)\nINFO:tensorflow:global_step/sec: 474.117\nINFO:tensorflow:loss = 4.88483, step = 4801 (0.211 sec)\nINFO:tensorflow:global_step/sec: 463.914\nINFO:tensorflow:loss = 6.19462, step = 4901 (0.215 sec)\nINFO:tensorflow:global_step/sec: 436.864\nINFO:tensorflow:loss = 5.34112, step = 5001 (0.229 sec)\nINFO:tensorflow:global_step/sec: 458.185\nINFO:tensorflow:loss = 7.82741, step = 5101 (0.218 sec)\nINFO:tensorflow:global_step/sec: 472.971\nINFO:tensorflow:loss = 8.7582, step = 5201 (0.211 sec)\nINFO:tensorflow:global_step/sec: 495.922\nINFO:tensorflow:loss = 6.66214, step = 5301 (0.202 sec)\nINFO:tensorflow:global_step/sec: 503.573\nINFO:tensorflow:loss = 11.4277, step = 5401 (0.198 sec)\nINFO:tensorflow:global_step/sec: 499.501\nINFO:tensorflow:loss = 6.65853, step = 5501 (0.200 sec)\nINFO:tensorflow:global_step/sec: 484.311\nINFO:tensorflow:loss = 5.29746, step = 5601 (0.207 sec)\nINFO:tensorflow:global_step/sec: 447.079\nINFO:tensorflow:loss = 7.91863, step = 5701 (0.223 sec)\nINFO:tensorflow:global_step/sec: 481.81\nINFO:tensorflow:loss = 7.11871, step = 5801 (0.208 sec)\nINFO:tensorflow:global_step/sec: 466.907\nINFO:tensorflow:loss = 6.68881, step = 5901 (0.214 sec)\nINFO:tensorflow:global_step/sec: 455.315\nINFO:tensorflow:loss = 4.28345, step = 6001 (0.220 sec)\nINFO:tensorflow:global_step/sec: 472.711\nINFO:tensorflow:loss = 4.77113, step = 6101 (0.212 sec)\nINFO:tensorflow:global_step/sec: 458.732\nINFO:tensorflow:loss = 6.74178, step = 6201 (0.218 sec)\nINFO:tensorflow:global_step/sec: 456.297\nINFO:tensorflow:loss = 5.83785, step = 6301 (0.219 sec)\nINFO:tensorflow:global_step/sec: 449.124\nINFO:tensorflow:loss = 9.73333, step = 6401 (0.223 sec)\nINFO:tensorflow:global_step/sec: 448.812\nINFO:tensorflow:loss = 7.31464, step = 6501 (0.223 sec)\nINFO:tensorflow:global_step/sec: 458.225\nINFO:tensorflow:loss = 9.02372, step = 6601 (0.218 sec)\nINFO:tensorflow:global_step/sec: 458.401\nINFO:tensorflow:loss = 7.70613, step = 6701 (0.218 sec)\nINFO:tensorflow:global_step/sec: 448.643\nINFO:tensorflow:loss = 8.79395, step = 6801 (0.223 sec)\nINFO:tensorflow:global_step/sec: 459.771\nINFO:tensorflow:loss = 10.5796, step = 6901 (0.217 sec)\nINFO:tensorflow:global_step/sec: 461.294\nINFO:tensorflow:loss = 6.19677, step = 7001 (0.217 sec)\nINFO:tensorflow:global_step/sec: 468.922\nINFO:tensorflow:loss = 8.36912, step = 7101 (0.213 sec)\nINFO:tensorflow:global_step/sec: 455.636\nINFO:tensorflow:loss = 5.88105, step = 7201 (0.220 sec)\nINFO:tensorflow:global_step/sec: 465.764\nINFO:tensorflow:loss = 10.4386, step = 7301 (0.214 sec)\nINFO:tensorflow:global_step/sec: 503.889\nINFO:tensorflow:loss = 5.49151, step = 7401 (0.199 sec)\nINFO:tensorflow:global_step/sec: 472.37\nINFO:tensorflow:loss = 6.73207, step = 7501 (0.212 sec)\nINFO:tensorflow:global_step/sec: 481.377\nINFO:tensorflow:loss = 5.44021, step = 7601 (0.208 sec)\nINFO:tensorflow:global_step/sec: 459.547\nINFO:tensorflow:loss = 6.30192, step = 7701 (0.218 sec)\nINFO:tensorflow:global_step/sec: 457.422\nINFO:tensorflow:loss = 6.65317, step = 7801 (0.219 sec)\nINFO:tensorflow:global_step/sec: 506.516\nINFO:tensorflow:loss = 5.9705, step = 7901 (0.197 sec)\nINFO:tensorflow:global_step/sec: 457.139\nINFO:tensorflow:loss = 7.02358, step = 8001 (0.219 sec)\nINFO:tensorflow:global_step/sec: 451.665\nINFO:tensorflow:loss = 7.05141, step = 8101 (0.221 sec)\nINFO:tensorflow:global_step/sec: 453.192\nINFO:tensorflow:loss = 7.4491, step = 8201 (0.221 sec)\nINFO:tensorflow:global_step/sec: 460.598\nINFO:tensorflow:loss = 7.21624, step = 8301 (0.217 sec)\nINFO:tensorflow:global_step/sec: 462.179\nINFO:tensorflow:loss = 6.47627, step = 8401 (0.217 sec)\nINFO:tensorflow:global_step/sec: 457.998\nINFO:tensorflow:loss = 7.9347, step = 8501 (0.218 sec)\nINFO:tensorflow:global_step/sec: 461.218\nINFO:tensorflow:loss = 7.08742, step = 8601 (0.217 sec)\nINFO:tensorflow:global_step/sec: 463.106\nINFO:tensorflow:loss = 6.90146, step = 8701 (0.216 sec)\nINFO:tensorflow:global_step/sec: 452.515\nINFO:tensorflow:loss = 6.21329, step = 8801 (0.221 sec)\nINFO:tensorflow:global_step/sec: 456.446\nINFO:tensorflow:loss = 6.93484, step = 8901 (0.219 sec)\nINFO:tensorflow:global_step/sec: 461.516\nINFO:tensorflow:loss = 7.7032, step = 9001 (0.217 sec)\nINFO:tensorflow:global_step/sec: 462.226\n",
          "name": "stdout"
        },
        {
          "output_type": "stream",
          "text": "INFO:tensorflow:loss = 7.78075, step = 9101 (0.216 sec)\nINFO:tensorflow:global_step/sec: 452.338\nINFO:tensorflow:loss = 8.16869, step = 9201 (0.221 sec)\nINFO:tensorflow:global_step/sec: 457.808\nINFO:tensorflow:loss = 6.23966, step = 9301 (0.218 sec)\nINFO:tensorflow:global_step/sec: 458.906\nINFO:tensorflow:loss = 9.65288, step = 9401 (0.218 sec)\nINFO:tensorflow:global_step/sec: 511.146\nINFO:tensorflow:loss = 4.9268, step = 9501 (0.196 sec)\nINFO:tensorflow:global_step/sec: 456.276\nINFO:tensorflow:loss = 6.6671, step = 9601 (0.219 sec)\nINFO:tensorflow:global_step/sec: 453.113\nINFO:tensorflow:loss = 9.1347, step = 9701 (0.221 sec)\nINFO:tensorflow:global_step/sec: 456.024\nINFO:tensorflow:loss = 7.30194, step = 9801 (0.219 sec)\nINFO:tensorflow:global_step/sec: 464.351\nINFO:tensorflow:loss = 4.40492, step = 9901 (0.216 sec)\nINFO:tensorflow:global_step/sec: 452.406\nINFO:tensorflow:loss = 8.96315, step = 10001 (0.221 sec)\nINFO:tensorflow:global_step/sec: 451.555\nINFO:tensorflow:loss = 6.12268, step = 10101 (0.221 sec)\nINFO:tensorflow:global_step/sec: 459.36\nINFO:tensorflow:loss = 5.45505, step = 10201 (0.218 sec)\nINFO:tensorflow:global_step/sec: 459.546\nINFO:tensorflow:loss = 6.51489, step = 10301 (0.218 sec)\nINFO:tensorflow:global_step/sec: 461.723\nINFO:tensorflow:loss = 6.26437, step = 10401 (0.217 sec)\nINFO:tensorflow:global_step/sec: 455.758\nINFO:tensorflow:loss = 6.32029, step = 10501 (0.219 sec)\nINFO:tensorflow:global_step/sec: 441.723\nINFO:tensorflow:loss = 7.34916, step = 10601 (0.226 sec)\nINFO:tensorflow:global_step/sec: 462.909\nINFO:tensorflow:loss = 8.29714, step = 10701 (0.216 sec)\nINFO:tensorflow:global_step/sec: 465.717\nINFO:tensorflow:loss = 3.5425, step = 10801 (0.215 sec)\nINFO:tensorflow:global_step/sec: 474.713\nINFO:tensorflow:loss = 6.84533, step = 10901 (0.211 sec)\nINFO:tensorflow:Saving checkpoints for 11000 into /tmp/tmplq97frb0/model.ckpt.\nINFO:tensorflow:Loss for final step: 8.14291.\n",
          "name": "stdout"
        },
        {
          "output_type": "execute_result",
          "execution_count": 41,
          "data": {
            "text/plain": "<tensorflow.python.estimator.canned.linear.LinearClassifier at 0x7fe0935838d0>"
          },
          "metadata": {}
        }
      ]
    },
    {
      "metadata": {
        "_uuid": "a1902557c76cfacea7dd98364fcd231fbb3fd728"
      },
      "cell_type": "markdown",
      "source": " ## We created a model using Linear Classifier, now let's test it"
    },
    {
      "metadata": {
        "collapsed": true,
        "trusted": true,
        "_uuid": "16d905de2211914bf454042da2d9969faeb44b99"
      },
      "cell_type": "code",
      "source": "test_input_func = tf.estimator.inputs.pandas_input_fn(x = X_test, y = y_test, batch_size = 16, num_epochs = 1, shuffle = False)",
      "execution_count": 42,
      "outputs": []
    },
    {
      "metadata": {
        "trusted": true,
        "_uuid": "1a4f8e6c61affa3889cba64a8c919edd817fa30c"
      },
      "cell_type": "code",
      "source": "results = model.evaluate(test_input_func)",
      "execution_count": 43,
      "outputs": [
        {
          "output_type": "stream",
          "text": "INFO:tensorflow:Calling model_fn.\nWARNING:tensorflow:Trapezoidal rule is known to produce incorrect PR-AUCs; please switch to \"careful_interpolation\" instead.\nWARNING:tensorflow:Trapezoidal rule is known to produce incorrect PR-AUCs; please switch to \"careful_interpolation\" instead.\nINFO:tensorflow:Done calling model_fn.\nINFO:tensorflow:Starting evaluation at 2018-05-19-04:50:16\nINFO:tensorflow:Graph was finalized.\nINFO:tensorflow:Restoring parameters from /tmp/tmplq97frb0/model.ckpt-11000\nINFO:tensorflow:Running local_init_op.\nINFO:tensorflow:Done running local_init_op.\nINFO:tensorflow:Finished evaluation at 2018-05-19-04:50:17\nINFO:tensorflow:Saving dict for global step 11000: accuracy = 0.748918, accuracy_baseline = 0.649351, auc = 0.780988, auc_precision_recall = 0.643692, average_loss = 0.53516, global_step = 11000, label/mean = 0.350649, loss = 8.24147, precision = 0.676923, prediction/mean = 0.353049, recall = 0.54321\n",
          "name": "stdout"
        }
      ]
    },
    {
      "metadata": {
        "trusted": true,
        "_uuid": "9719ab1bacabffb2e5ce8a9ad30f5897f3aa71be"
      },
      "cell_type": "code",
      "source": "results",
      "execution_count": 44,
      "outputs": [
        {
          "output_type": "execute_result",
          "execution_count": 44,
          "data": {
            "text/plain": "{'accuracy': 0.74891776,\n 'accuracy_baseline': 0.64935064,\n 'auc': 0.78098768,\n 'auc_precision_recall': 0.64369154,\n 'average_loss': 0.53516042,\n 'global_step': 11000,\n 'label/mean': 0.35064936,\n 'loss': 8.2414703,\n 'precision': 0.6769231,\n 'prediction/mean': 0.35304883,\n 'recall': 0.54320985}"
          },
          "metadata": {}
        }
      ]
    },
    {
      "metadata": {
        "_uuid": "68b785e3265ec8010084783f141c21ee89563c8b"
      },
      "cell_type": "markdown",
      "source": "## Predicting new values"
    },
    {
      "metadata": {
        "collapsed": true,
        "trusted": true,
        "_uuid": "e4c64004b7ac403bbb8f4b294f61bb59e8106491"
      },
      "cell_type": "code",
      "source": "pred_input_func = tf.estimator.inputs.pandas_input_fn(x = X_test, batch_size = 16, num_epochs = 1, shuffle = False)",
      "execution_count": 45,
      "outputs": []
    },
    {
      "metadata": {
        "collapsed": true,
        "trusted": true,
        "_uuid": "d200913b4d482fa3a2b793bc692c296323b15777"
      },
      "cell_type": "code",
      "source": "predictions = model.predict(pred_input_func)",
      "execution_count": 46,
      "outputs": []
    },
    {
      "metadata": {
        "trusted": true,
        "_uuid": "5de41adc8d84f757b71260e76c79c85bc75e429b"
      },
      "cell_type": "code",
      "source": "my_pred = list(predictions)",
      "execution_count": 47,
      "outputs": [
        {
          "output_type": "stream",
          "text": "INFO:tensorflow:Calling model_fn.\nINFO:tensorflow:Done calling model_fn.\nINFO:tensorflow:Graph was finalized.\nINFO:tensorflow:Restoring parameters from /tmp/tmplq97frb0/model.ckpt-11000\nINFO:tensorflow:Running local_init_op.\nINFO:tensorflow:Done running local_init_op.\n",
          "name": "stdout"
        }
      ]
    },
    {
      "metadata": {
        "trusted": true,
        "_uuid": "86e12c39fbb823edb334b1d3cb33f3c163158eb4"
      },
      "cell_type": "code",
      "source": "my_pred",
      "execution_count": 48,
      "outputs": [
        {
          "output_type": "execute_result",
          "execution_count": 48,
          "data": {
            "text/plain": "[{'class_ids': array([0]),\n  'classes': array([b'0'], dtype=object),\n  'logistic': array([ 0.1058102], dtype=float32),\n  'logits': array([-2.13427114], dtype=float32),\n  'probabilities': array([ 0.89418977,  0.1058102 ], dtype=float32)},\n {'class_ids': array([1]),\n  'classes': array([b'1'], dtype=object),\n  'logistic': array([ 0.607889], dtype=float32),\n  'logits': array([ 0.43844724], dtype=float32),\n  'probabilities': array([ 0.39211103,  0.607889  ], dtype=float32)},\n {'class_ids': array([0]),\n  'classes': array([b'0'], dtype=object),\n  'logistic': array([ 0.18583819], dtype=float32),\n  'logits': array([-1.47728276], dtype=float32),\n  'probabilities': array([ 0.81416184,  0.18583819], dtype=float32)},\n {'class_ids': array([1]),\n  'classes': array([b'1'], dtype=object),\n  'logistic': array([ 0.76343518], dtype=float32),\n  'logits': array([ 1.17160583], dtype=float32),\n  'probabilities': array([ 0.23656484,  0.76343518], dtype=float32)},\n {'class_ids': array([0]),\n  'classes': array([b'0'], dtype=object),\n  'logistic': array([ 0.13881424], dtype=float32),\n  'logits': array([-1.82517362], dtype=float32),\n  'probabilities': array([ 0.86118573,  0.13881424], dtype=float32)},\n {'class_ids': array([0]),\n  'classes': array([b'0'], dtype=object),\n  'logistic': array([ 0.11070669], dtype=float32),\n  'logits': array([-2.08354282], dtype=float32),\n  'probabilities': array([ 0.88929331,  0.11070669], dtype=float32)},\n {'class_ids': array([0]),\n  'classes': array([b'0'], dtype=object),\n  'logistic': array([ 0.19550733], dtype=float32),\n  'logits': array([-1.41461396], dtype=float32),\n  'probabilities': array([ 0.80449265,  0.19550733], dtype=float32)},\n {'class_ids': array([0]),\n  'classes': array([b'0'], dtype=object),\n  'logistic': array([ 0.46493065], dtype=float32),\n  'logits': array([-0.14050817], dtype=float32),\n  'probabilities': array([ 0.53506941,  0.46493068], dtype=float32)},\n {'class_ids': array([0]),\n  'classes': array([b'0'], dtype=object),\n  'logistic': array([ 0.15878695], dtype=float32),\n  'logits': array([-1.66728163], dtype=float32),\n  'probabilities': array([ 0.84121311,  0.15878695], dtype=float32)},\n {'class_ids': array([0]),\n  'classes': array([b'0'], dtype=object),\n  'logistic': array([ 0.23511858], dtype=float32),\n  'logits': array([-1.17963088], dtype=float32),\n  'probabilities': array([ 0.76488149,  0.23511858], dtype=float32)},\n {'class_ids': array([0]),\n  'classes': array([b'0'], dtype=object),\n  'logistic': array([ 0.28296122], dtype=float32),\n  'logits': array([-0.92982006], dtype=float32),\n  'probabilities': array([ 0.71703875,  0.28296122], dtype=float32)},\n {'class_ids': array([0]),\n  'classes': array([b'0'], dtype=object),\n  'logistic': array([ 0.35829997], dtype=float32),\n  'logits': array([-0.58275032], dtype=float32),\n  'probabilities': array([ 0.64170003,  0.3583    ], dtype=float32)},\n {'class_ids': array([0]),\n  'classes': array([b'0'], dtype=object),\n  'logistic': array([ 0.26096967], dtype=float32),\n  'logits': array([-1.0409348], dtype=float32),\n  'probabilities': array([ 0.73903036,  0.26096967], dtype=float32)},\n {'class_ids': array([1]),\n  'classes': array([b'1'], dtype=object),\n  'logistic': array([ 0.57783324], dtype=float32),\n  'logits': array([ 0.31388497], dtype=float32),\n  'probabilities': array([ 0.42216676,  0.57783324], dtype=float32)},\n {'class_ids': array([0]),\n  'classes': array([b'0'], dtype=object),\n  'logistic': array([ 0.20455737], dtype=float32),\n  'logits': array([-1.35805023], dtype=float32),\n  'probabilities': array([ 0.79544258,  0.20455737], dtype=float32)},\n {'class_ids': array([0]),\n  'classes': array([b'0'], dtype=object),\n  'logistic': array([ 0.48586023], dtype=float32),\n  'logits': array([-0.05657434], dtype=float32),\n  'probabilities': array([ 0.51413983,  0.4858602 ], dtype=float32)},\n {'class_ids': array([1]),\n  'classes': array([b'1'], dtype=object),\n  'logistic': array([ 0.71621644], dtype=float32),\n  'logits': array([ 0.92577052], dtype=float32),\n  'probabilities': array([ 0.28378356,  0.71621644], dtype=float32)},\n {'class_ids': array([1]),\n  'classes': array([b'1'], dtype=object),\n  'logistic': array([ 0.7669698], dtype=float32),\n  'logits': array([ 1.19127965], dtype=float32),\n  'probabilities': array([ 0.23303014,  0.7669698 ], dtype=float32)},\n {'class_ids': array([0]),\n  'classes': array([b'0'], dtype=object),\n  'logistic': array([ 0.09241209], dtype=float32),\n  'logits': array([-2.28453255], dtype=float32),\n  'probabilities': array([ 0.90758789,  0.09241209], dtype=float32)},\n {'class_ids': array([1]),\n  'classes': array([b'1'], dtype=object),\n  'logistic': array([ 0.94545734], dtype=float32),\n  'logits': array([ 2.85268474], dtype=float32),\n  'probabilities': array([ 0.05454271,  0.94545734], dtype=float32)},\n {'class_ids': array([1]),\n  'classes': array([b'1'], dtype=object),\n  'logistic': array([ 0.60825032], dtype=float32),\n  'logits': array([ 0.43996358], dtype=float32),\n  'probabilities': array([ 0.39174965,  0.60825032], dtype=float32)},\n {'class_ids': array([1]),\n  'classes': array([b'1'], dtype=object),\n  'logistic': array([ 0.51392943], dtype=float32),\n  'logits': array([ 0.05573201], dtype=float32),\n  'probabilities': array([ 0.48607063,  0.51392943], dtype=float32)},\n {'class_ids': array([1]),\n  'classes': array([b'1'], dtype=object),\n  'logistic': array([ 0.69639164], dtype=float32),\n  'logits': array([ 0.83017373], dtype=float32),\n  'probabilities': array([ 0.30360833,  0.69639164], dtype=float32)},\n {'class_ids': array([1]),\n  'classes': array([b'1'], dtype=object),\n  'logistic': array([ 0.74039525], dtype=float32),\n  'logits': array([ 1.04802394], dtype=float32),\n  'probabilities': array([ 0.25960472,  0.74039525], dtype=float32)},\n {'class_ids': array([1]),\n  'classes': array([b'1'], dtype=object),\n  'logistic': array([ 0.73714161], dtype=float32),\n  'logits': array([ 1.03116441], dtype=float32),\n  'probabilities': array([ 0.26285842,  0.73714161], dtype=float32)},\n {'class_ids': array([0]),\n  'classes': array([b'0'], dtype=object),\n  'logistic': array([ 0.0964388], dtype=float32),\n  'logits': array([-2.23743534], dtype=float32),\n  'probabilities': array([ 0.90356117,  0.09643879], dtype=float32)},\n {'class_ids': array([1]),\n  'classes': array([b'1'], dtype=object),\n  'logistic': array([ 0.68421865], dtype=float32),\n  'logits': array([ 0.77322745], dtype=float32),\n  'probabilities': array([ 0.31578135,  0.68421865], dtype=float32)},\n {'class_ids': array([0]),\n  'classes': array([b'0'], dtype=object),\n  'logistic': array([ 0.48625311], dtype=float32),\n  'logits': array([-0.0550015], dtype=float32),\n  'probabilities': array([ 0.51374692,  0.48625311], dtype=float32)},\n {'class_ids': array([1]),\n  'classes': array([b'1'], dtype=object),\n  'logistic': array([ 0.5846861], dtype=float32),\n  'logits': array([ 0.3420403], dtype=float32),\n  'probabilities': array([ 0.41531399,  0.5846861 ], dtype=float32)},\n {'class_ids': array([0]),\n  'classes': array([b'0'], dtype=object),\n  'logistic': array([ 0.1575529], dtype=float32),\n  'logits': array([-1.67654955], dtype=float32),\n  'probabilities': array([ 0.8424471,  0.1575529], dtype=float32)},\n {'class_ids': array([1]),\n  'classes': array([b'1'], dtype=object),\n  'logistic': array([ 0.63336825], dtype=float32),\n  'logits': array([ 0.54669428], dtype=float32),\n  'probabilities': array([ 0.36663169,  0.63336825], dtype=float32)},\n {'class_ids': array([1]),\n  'classes': array([b'1'], dtype=object),\n  'logistic': array([ 0.55789608], dtype=float32),\n  'logits': array([ 0.23262763], dtype=float32),\n  'probabilities': array([ 0.44210395,  0.55789608], dtype=float32)},\n {'class_ids': array([0]),\n  'classes': array([b'0'], dtype=object),\n  'logistic': array([ 0.04162137], dtype=float32),\n  'logits': array([-3.1366291], dtype=float32),\n  'probabilities': array([ 0.95837867,  0.04162138], dtype=float32)},\n {'class_ids': array([0]),\n  'classes': array([b'0'], dtype=object),\n  'logistic': array([ 0.07498862], dtype=float32),\n  'logits': array([-2.51246977], dtype=float32),\n  'probabilities': array([ 0.92501134,  0.0749886 ], dtype=float32)},\n {'class_ids': array([1]),\n  'classes': array([b'1'], dtype=object),\n  'logistic': array([ 0.73285365], dtype=float32),\n  'logits': array([ 1.00914931], dtype=float32),\n  'probabilities': array([ 0.26714638,  0.73285365], dtype=float32)},\n {'class_ids': array([0]),\n  'classes': array([b'0'], dtype=object),\n  'logistic': array([ 0.22265589], dtype=float32),\n  'logits': array([-1.25025558], dtype=float32),\n  'probabilities': array([ 0.77734411,  0.22265591], dtype=float32)},\n {'class_ids': array([0]),\n  'classes': array([b'0'], dtype=object),\n  'logistic': array([ 0.43148685], dtype=float32),\n  'logits': array([-0.27578759], dtype=float32),\n  'probabilities': array([ 0.56851321,  0.43148682], dtype=float32)},\n {'class_ids': array([0]),\n  'classes': array([b'0'], dtype=object),\n  'logistic': array([ 0.10458346], dtype=float32),\n  'logits': array([-2.14730358], dtype=float32),\n  'probabilities': array([ 0.89541656,  0.10458346], dtype=float32)},\n {'class_ids': array([1]),\n  'classes': array([b'1'], dtype=object),\n  'logistic': array([ 0.5030508], dtype=float32),\n  'logits': array([ 0.01220345], dtype=float32),\n  'probabilities': array([ 0.49694914,  0.5030508 ], dtype=float32)},\n {'class_ids': array([0]),\n  'classes': array([b'0'], dtype=object),\n  'logistic': array([ 0.16423316], dtype=float32),\n  'logits': array([-1.62706256], dtype=float32),\n  'probabilities': array([ 0.83576685,  0.16423316], dtype=float32)},\n {'class_ids': array([0]),\n  'classes': array([b'0'], dtype=object),\n  'logistic': array([ 0.13449091], dtype=float32),\n  'logits': array([-1.86182129], dtype=float32),\n  'probabilities': array([ 0.86550915,  0.13449092], dtype=float32)},\n {'class_ids': array([1]),\n  'classes': array([b'1'], dtype=object),\n  'logistic': array([ 0.92626041], dtype=float32),\n  'logits': array([ 2.53061509], dtype=float32),\n  'probabilities': array([ 0.07373963,  0.92626041], dtype=float32)},\n {'class_ids': array([1]),\n  'classes': array([b'1'], dtype=object),\n  'logistic': array([ 0.52195567], dtype=float32),\n  'logits': array([ 0.08787918], dtype=float32),\n  'probabilities': array([ 0.47804433,  0.52195567], dtype=float32)},\n {'class_ids': array([1]),\n  'classes': array([b'1'], dtype=object),\n  'logistic': array([ 0.89756477], dtype=float32),\n  'logits': array([ 2.17045426], dtype=float32),\n  'probabilities': array([ 0.10243526,  0.89756477], dtype=float32)},\n {'class_ids': array([0]),\n  'classes': array([b'0'], dtype=object),\n  'logistic': array([ 0.26980877], dtype=float32),\n  'logits': array([-0.99559307], dtype=float32),\n  'probabilities': array([ 0.73019123,  0.26980877], dtype=float32)},\n {'class_ids': array([0]),\n  'classes': array([b'0'], dtype=object),\n  'logistic': array([ 0.05669587], dtype=float32),\n  'logits': array([-2.81168747], dtype=float32),\n  'probabilities': array([ 0.94330406,  0.05669586], dtype=float32)},\n {'class_ids': array([0]),\n  'classes': array([b'0'], dtype=object),\n  'logistic': array([ 0.28992793], dtype=float32),\n  'logits': array([-0.89573407], dtype=float32),\n  'probabilities': array([ 0.71007204,  0.28992793], dtype=float32)},\n {'class_ids': array([0]),\n  'classes': array([b'0'], dtype=object),\n  'logistic': array([ 0.28865463], dtype=float32),\n  'logits': array([-0.90192723], dtype=float32),\n  'probabilities': array([ 0.71134537,  0.28865463], dtype=float32)},\n {'class_ids': array([0]),\n  'classes': array([b'0'], dtype=object),\n  'logistic': array([ 0.09154754], dtype=float32),\n  'logits': array([-2.2948842], dtype=float32),\n  'probabilities': array([ 0.90845245,  0.09154754], dtype=float32)},\n {'class_ids': array([0]),\n  'classes': array([b'0'], dtype=object),\n  'logistic': array([ 0.05613776], dtype=float32),\n  'logits': array([-2.82217169], dtype=float32),\n  'probabilities': array([ 0.94386226,  0.05613775], dtype=float32)},\n {'class_ids': array([0]),\n  'classes': array([b'0'], dtype=object),\n  'logistic': array([ 0.12668908], dtype=float32),\n  'logits': array([-1.93055582], dtype=float32),\n  'probabilities': array([ 0.87331092,  0.12668908], dtype=float32)},\n {'class_ids': array([0]),\n  'classes': array([b'0'], dtype=object),\n  'logistic': array([ 0.20636223], dtype=float32),\n  'logits': array([-1.34699416], dtype=float32),\n  'probabilities': array([ 0.79363775,  0.20636222], dtype=float32)},\n {'class_ids': array([0]),\n  'classes': array([b'0'], dtype=object),\n  'logistic': array([ 0.11979509], dtype=float32),\n  'logits': array([-1.99437201], dtype=float32),\n  'probabilities': array([ 0.88020492,  0.1197951 ], dtype=float32)},\n {'class_ids': array([0]),\n  'classes': array([b'0'], dtype=object),\n  'logistic': array([ 0.15878813], dtype=float32),\n  'logits': array([-1.66727281], dtype=float32),\n  'probabilities': array([ 0.84121192,  0.15878813], dtype=float32)},\n {'class_ids': array([0]),\n  'classes': array([b'0'], dtype=object),\n  'logistic': array([ 0.10977735], dtype=float32),\n  'logits': array([-2.09301734], dtype=float32),\n  'probabilities': array([ 0.89022267,  0.10977735], dtype=float32)},\n {'class_ids': array([0]),\n  'classes': array([b'0'], dtype=object),\n  'logistic': array([ 0.18151356], dtype=float32),\n  'logits': array([-1.5061264], dtype=float32),\n  'probabilities': array([ 0.81848645,  0.18151358], dtype=float32)},\n {'class_ids': array([0]),\n  'classes': array([b'0'], dtype=object),\n  'logistic': array([ 0.33024573], dtype=float32),\n  'logits': array([-0.70707393], dtype=float32),\n  'probabilities': array([ 0.66975427,  0.3302457 ], dtype=float32)},\n {'class_ids': array([1]),\n  'classes': array([b'1'], dtype=object),\n  'logistic': array([ 0.78987563], dtype=float32),\n  'logits': array([ 1.32417607], dtype=float32),\n  'probabilities': array([ 0.21012434,  0.78987563], dtype=float32)},\n {'class_ids': array([1]),\n  'classes': array([b'1'], dtype=object),\n  'logistic': array([ 0.85461783], dtype=float32),\n  'logits': array([ 1.77128863], dtype=float32),\n  'probabilities': array([ 0.14538215,  0.85461783], dtype=float32)},\n {'class_ids': array([0]),\n  'classes': array([b'0'], dtype=object),\n  'logistic': array([ 0.17409427], dtype=float32),\n  'logits': array([-1.55688369], dtype=float32),\n  'probabilities': array([ 0.82590574,  0.17409427], dtype=float32)},\n {'class_ids': array([1]),\n  'classes': array([b'1'], dtype=object),\n  'logistic': array([ 0.7352137], dtype=float32),\n  'logits': array([ 1.02123809], dtype=float32),\n  'probabilities': array([ 0.26478633,  0.7352137 ], dtype=float32)},\n {'class_ids': array([0]),\n  'classes': array([b'0'], dtype=object),\n  'logistic': array([ 0.03317023], dtype=float32),\n  'logits': array([-3.37236953], dtype=float32),\n  'probabilities': array([ 0.96682984,  0.03317024], dtype=float32)},\n {'class_ids': array([0]),\n  'classes': array([b'0'], dtype=object),\n  'logistic': array([ 0.07965145], dtype=float32),\n  'logits': array([-2.44709229], dtype=float32),\n  'probabilities': array([ 0.92034853,  0.07965145], dtype=float32)},\n {'class_ids': array([0]),\n  'classes': array([b'0'], dtype=object),\n  'logistic': array([ 0.18519408], dtype=float32),\n  'logits': array([-1.48154557], dtype=float32),\n  'probabilities': array([ 0.81480592,  0.18519409], dtype=float32)},\n {'class_ids': array([0]),\n  'classes': array([b'0'], dtype=object),\n  'logistic': array([ 0.19824886], dtype=float32),\n  'logits': array([-1.39727509], dtype=float32),\n  'probabilities': array([ 0.80175114,  0.19824888], dtype=float32)},\n {'class_ids': array([0]),\n  'classes': array([b'0'], dtype=object),\n  'logistic': array([ 0.31739703], dtype=float32),\n  'logits': array([-0.76575994], dtype=float32),\n  'probabilities': array([ 0.682603  ,  0.31739703], dtype=float32)},\n {'class_ids': array([0]),\n  'classes': array([b'0'], dtype=object),\n  'logistic': array([ 0.33373553], dtype=float32),\n  'logits': array([-0.69133782], dtype=float32),\n  'probabilities': array([ 0.66626447,  0.33373556], dtype=float32)},\n {'class_ids': array([0]),\n  'classes': array([b'0'], dtype=object),\n  'logistic': array([ 0.2400973], dtype=float32),\n  'logits': array([-1.15214622], dtype=float32),\n  'probabilities': array([ 0.75990272,  0.2400973 ], dtype=float32)},\n {'class_ids': array([0]),\n  'classes': array([b'0'], dtype=object),\n  'logistic': array([ 0.46104765], dtype=float32),\n  'logits': array([-0.15612578], dtype=float32),\n  'probabilities': array([ 0.53895235,  0.46104765], dtype=float32)},\n {'class_ids': array([0]),\n  'classes': array([b'0'], dtype=object),\n  'logistic': array([ 0.17320099], dtype=float32),\n  'logits': array([-1.5631088], dtype=float32),\n  'probabilities': array([ 0.82679898,  0.17320101], dtype=float32)},\n {'class_ids': array([0]),\n  'classes': array([b'0'], dtype=object),\n  'logistic': array([ 0.1786173], dtype=float32),\n  'logits': array([-1.5257436], dtype=float32),\n  'probabilities': array([ 0.8213827,  0.1786173], dtype=float32)},\n {'class_ids': array([0]),\n  'classes': array([b'0'], dtype=object),\n  'logistic': array([ 0.22979224], dtype=float32),\n  'logits': array([-1.2094847], dtype=float32),\n  'probabilities': array([ 0.7702077 ,  0.22979224], dtype=float32)},\n {'class_ids': array([0]),\n  'classes': array([b'0'], dtype=object),\n  'logistic': array([ 0.34057236], dtype=float32),\n  'logits': array([-0.66074467], dtype=float32),\n  'probabilities': array([ 0.65942764,  0.34057236], dtype=float32)},\n {'class_ids': array([0]),\n  'classes': array([b'0'], dtype=object),\n  'logistic': array([ 0.09141459], dtype=float32),\n  'logits': array([-2.29648376], dtype=float32),\n  'probabilities': array([ 0.90858537,  0.09141459], dtype=float32)},\n {'class_ids': array([1]),\n  'classes': array([b'1'], dtype=object),\n  'logistic': array([ 0.86441338], dtype=float32),\n  'logits': array([ 1.85244012], dtype=float32),\n  'probabilities': array([ 0.13558666,  0.86441338], dtype=float32)},\n {'class_ids': array([0]),\n  'classes': array([b'0'], dtype=object),\n  'logistic': array([ 0.23652442], dtype=float32),\n  'logits': array([-1.1718297], dtype=float32),\n  'probabilities': array([ 0.7634756 ,  0.23652442], dtype=float32)},\n {'class_ids': array([0]),\n  'classes': array([b'0'], dtype=object),\n  'logistic': array([ 0.48633891], dtype=float32),\n  'logits': array([-0.05465794], dtype=float32),\n  'probabilities': array([ 0.51366109,  0.48633891], dtype=float32)},\n {'class_ids': array([1]),\n  'classes': array([b'1'], dtype=object),\n  'logistic': array([ 0.71941227], dtype=float32),\n  'logits': array([ 0.94154811], dtype=float32),\n  'probabilities': array([ 0.28058773,  0.71941227], dtype=float32)},\n {'class_ids': array([0]),\n  'classes': array([b'0'], dtype=object),\n  'logistic': array([ 0.12567595], dtype=float32),\n  'logits': array([-1.93974435], dtype=float32),\n  'probabilities': array([ 0.87432408,  0.12567596], dtype=float32)},\n {'class_ids': array([1]),\n  'classes': array([b'1'], dtype=object),\n  'logistic': array([ 0.60289323], dtype=float32),\n  'logits': array([ 0.41753483], dtype=float32),\n  'probabilities': array([ 0.3971068 ,  0.60289323], dtype=float32)},\n {'class_ids': array([1]),\n  'classes': array([b'1'], dtype=object),\n  'logistic': array([ 0.73730683], dtype=float32),\n  'logits': array([ 1.03201747], dtype=float32),\n  'probabilities': array([ 0.26269314,  0.73730683], dtype=float32)},\n {'class_ids': array([0]),\n  'classes': array([b'0'], dtype=object),\n  'logistic': array([ 0.20352095], dtype=float32),\n  'logits': array([-1.36443186], dtype=float32),\n  'probabilities': array([ 0.79647905,  0.20352094], dtype=float32)},\n {'class_ids': array([0]),\n  'classes': array([b'0'], dtype=object),\n  'logistic': array([ 0.38512522], dtype=float32),\n  'logits': array([-0.46785021], dtype=float32),\n  'probabilities': array([ 0.61487484,  0.38512519], dtype=float32)},\n {'class_ids': array([0]),\n  'classes': array([b'0'], dtype=object),\n  'logistic': array([ 0.09011164], dtype=float32),\n  'logits': array([-2.31227255], dtype=float32),\n  'probabilities': array([ 0.90988833,  0.09011164], dtype=float32)},\n {'class_ids': array([0]),\n  'classes': array([b'0'], dtype=object),\n  'logistic': array([ 0.34930044], dtype=float32),\n  'logits': array([-0.62211561], dtype=float32),\n  'probabilities': array([ 0.65069956,  0.34930041], dtype=float32)},\n {'class_ids': array([0]),\n  'classes': array([b'0'], dtype=object),\n  'logistic': array([ 0.04605183], dtype=float32),\n  'logits': array([-3.03084183], dtype=float32),\n  'probabilities': array([ 0.95394814,  0.04605183], dtype=float32)},\n {'class_ids': array([0]),\n  'classes': array([b'0'], dtype=object),\n  'logistic': array([ 0.0711001], dtype=float32),\n  'logits': array([-2.5699122], dtype=float32),\n  'probabilities': array([ 0.92889988,  0.0711001 ], dtype=float32)},\n {'class_ids': array([1]),\n  'classes': array([b'1'], dtype=object),\n  'logistic': array([ 0.7589696], dtype=float32),\n  'logits': array([ 1.1470387], dtype=float32),\n  'probabilities': array([ 0.2410304,  0.7589696], dtype=float32)},\n {'class_ids': array([1]),\n  'classes': array([b'1'], dtype=object),\n  'logistic': array([ 0.8259747], dtype=float32),\n  'logits': array([ 1.55736327], dtype=float32),\n  'probabilities': array([ 0.17402533,  0.8259747 ], dtype=float32)},\n {'class_ids': array([0]),\n  'classes': array([b'0'], dtype=object),\n  'logistic': array([ 0.18998672], dtype=float32),\n  'logits': array([-1.45009649], dtype=float32),\n  'probabilities': array([ 0.81001329,  0.18998672], dtype=float32)},\n {'class_ids': array([0]),\n  'classes': array([b'0'], dtype=object),\n  'logistic': array([ 0.4513914], dtype=float32),\n  'logits': array([-0.19505048], dtype=float32),\n  'probabilities': array([ 0.5486086,  0.4513914], dtype=float32)},\n {'class_ids': array([0]),\n  'classes': array([b'0'], dtype=object),\n  'logistic': array([ 0.08592071], dtype=float32),\n  'logits': array([-2.36449242], dtype=float32),\n  'probabilities': array([ 0.91407931,  0.08592071], dtype=float32)},\n {'class_ids': array([1]),\n  'classes': array([b'1'], dtype=object),\n  'logistic': array([ 0.86740482], dtype=float32),\n  'logits': array([ 1.87820554], dtype=float32),\n  'probabilities': array([ 0.13259512,  0.86740482], dtype=float32)},\n {'class_ids': array([0]),\n  'classes': array([b'0'], dtype=object),\n  'logistic': array([ 0.36613116], dtype=float32),\n  'logits': array([-0.54885054], dtype=float32),\n  'probabilities': array([ 0.63386887,  0.36613113], dtype=float32)},\n {'class_ids': array([0]),\n  'classes': array([b'0'], dtype=object),\n  'logistic': array([ 0.42983383], dtype=float32),\n  'logits': array([-0.28252912], dtype=float32),\n  'probabilities': array([ 0.57016617,  0.42983383], dtype=float32)},\n {'class_ids': array([0]),\n  'classes': array([b'0'], dtype=object),\n  'logistic': array([ 0.17305146], dtype=float32),\n  'logits': array([-1.56415343], dtype=float32),\n  'probabilities': array([ 0.82694852,  0.17305146], dtype=float32)},\n {'class_ids': array([0]),\n  'classes': array([b'0'], dtype=object),\n  'logistic': array([ 0.23522492], dtype=float32),\n  'logits': array([-1.17903972], dtype=float32),\n  'probabilities': array([ 0.7647751 ,  0.23522489], dtype=float32)},\n {'class_ids': array([0]),\n  'classes': array([b'0'], dtype=object),\n  'logistic': array([ 0.19237702], dtype=float32),\n  'logits': array([-1.43463826], dtype=float32),\n  'probabilities': array([ 0.80762297,  0.19237702], dtype=float32)},\n {'class_ids': array([0]),\n  'classes': array([b'0'], dtype=object),\n  'logistic': array([ 0.14464252], dtype=float32),\n  'logits': array([-1.7772541], dtype=float32),\n  'probabilities': array([ 0.85535747,  0.14464253], dtype=float32)},\n {'class_ids': array([1]),\n  'classes': array([b'1'], dtype=object),\n  'logistic': array([ 0.53200769], dtype=float32),\n  'logits': array([ 0.12820601], dtype=float32),\n  'probabilities': array([ 0.46799234,  0.53200769], dtype=float32)},\n {'class_ids': array([1]),\n  'classes': array([b'1'], dtype=object),\n  'logistic': array([ 0.81012958], dtype=float32),\n  'logits': array([ 1.45085216], dtype=float32),\n  'probabilities': array([ 0.18987046,  0.81012958], dtype=float32)},\n {'class_ids': array([0]),\n  'classes': array([b'0'], dtype=object),\n  'logistic': array([ 0.44367567], dtype=float32),\n  'logits': array([-0.22625756], dtype=float32),\n  'probabilities': array([ 0.5563243 ,  0.44367567], dtype=float32)},\n {'class_ids': array([0]),\n  'classes': array([b'0'], dtype=object),\n  'logistic': array([ 0.2137458], dtype=float32),\n  'logits': array([-1.30249262], dtype=float32),\n  'probabilities': array([ 0.78625417,  0.21374582], dtype=float32)},\n {'class_ids': array([0]),\n  'classes': array([b'0'], dtype=object),\n  'logistic': array([ 0.28379035], dtype=float32),\n  'logits': array([-0.92573714], dtype=float32),\n  'probabilities': array([ 0.71620959,  0.28379032], dtype=float32)},\n {'class_ids': array([0]),\n  'classes': array([b'0'], dtype=object),\n  'logistic': array([ 0.2446046], dtype=float32),\n  'logits': array([-1.12759829], dtype=float32),\n  'probabilities': array([ 0.75539535,  0.2446046 ], dtype=float32)},\n {'class_ids': array([1]),\n  'classes': array([b'1'], dtype=object),\n  'logistic': array([ 0.7282967], dtype=float32),\n  'logits': array([ 0.98599792], dtype=float32),\n  'probabilities': array([ 0.27170327,  0.7282967 ], dtype=float32)},\n {'class_ids': array([0]),\n  'classes': array([b'0'], dtype=object),\n  'logistic': array([ 0.22301613], dtype=float32),\n  'logits': array([-1.2481755], dtype=float32),\n  'probabilities': array([ 0.77698386,  0.22301613], dtype=float32)},\n {'class_ids': array([0]),\n  'classes': array([b'0'], dtype=object),\n  'logistic': array([ 0.44757524], dtype=float32),\n  'logits': array([-0.21047258], dtype=float32),\n  'probabilities': array([ 0.55242473,  0.44757524], dtype=float32)},\n {'class_ids': array([1]),\n  'classes': array([b'1'], dtype=object),\n  'logistic': array([ 0.64921576], dtype=float32),\n  'logits': array([ 0.61559367], dtype=float32),\n  'probabilities': array([ 0.35078427,  0.64921576], dtype=float32)},\n {'class_ids': array([1]),\n  'classes': array([b'1'], dtype=object),\n  'logistic': array([ 0.89420342], dtype=float32),\n  'logits': array([ 2.13441443], dtype=float32),\n  'probabilities': array([ 0.10579665,  0.89420342], dtype=float32)},\n {'class_ids': array([0]),\n  'classes': array([b'0'], dtype=object),\n  'logistic': array([ 0.1506128], dtype=float32),\n  'logits': array([-1.72980285], dtype=float32),\n  'probabilities': array([ 0.84938717,  0.15061279], dtype=float32)},\n {'class_ids': array([0]),\n  'classes': array([b'0'], dtype=object),\n  'logistic': array([ 0.20873518], dtype=float32),\n  'logits': array([-1.33256626], dtype=float32),\n  'probabilities': array([ 0.79126477,  0.2087352 ], dtype=float32)},\n {'class_ids': array([0]),\n  'classes': array([b'0'], dtype=object),\n  'logistic': array([ 0.13560659], dtype=float32),\n  'logits': array([-1.85227001], dtype=float32),\n  'probabilities': array([ 0.86439341,  0.1356066 ], dtype=float32)},\n {'class_ids': array([0]),\n  'classes': array([b'0'], dtype=object),\n  'logistic': array([ 0.17628784], dtype=float32),\n  'logits': array([-1.54170299], dtype=float32),\n  'probabilities': array([ 0.82371217,  0.17628784], dtype=float32)},\n {'class_ids': array([1]),\n  'classes': array([b'1'], dtype=object),\n  'logistic': array([ 0.7451762], dtype=float32),\n  'logits': array([ 1.07304835], dtype=float32),\n  'probabilities': array([ 0.2548238,  0.7451762], dtype=float32)},\n {'class_ids': array([0]),\n  'classes': array([b'0'], dtype=object),\n  'logistic': array([ 0.25282702], dtype=float32),\n  'logits': array([-1.08359122], dtype=float32),\n  'probabilities': array([ 0.74717295,  0.25282702], dtype=float32)},\n {'class_ids': array([1]),\n  'classes': array([b'1'], dtype=object),\n  'logistic': array([ 0.57210165], dtype=float32),\n  'logits': array([ 0.29043102], dtype=float32),\n  'probabilities': array([ 0.42789835,  0.57210165], dtype=float32)},\n {'class_ids': array([0]),\n  'classes': array([b'0'], dtype=object),\n  'logistic': array([ 0.13012721], dtype=float32),\n  'logits': array([-1.89983451], dtype=float32),\n  'probabilities': array([ 0.86987281,  0.13012721], dtype=float32)},\n {'class_ids': array([0]),\n  'classes': array([b'0'], dtype=object),\n  'logistic': array([ 0.3065204], dtype=float32),\n  'logits': array([-0.81643748], dtype=float32),\n  'probabilities': array([ 0.6934796,  0.3065204], dtype=float32)},\n {'class_ids': array([0]),\n  'classes': array([b'0'], dtype=object),\n  'logistic': array([ 0.17294785], dtype=float32),\n  'logits': array([-1.56487763], dtype=float32),\n  'probabilities': array([ 0.82705218,  0.17294785], dtype=float32)},\n {'class_ids': array([1]),\n  'classes': array([b'1'], dtype=object),\n  'logistic': array([ 0.53887689], dtype=float32),\n  'logits': array([ 0.15582204], dtype=float32),\n  'probabilities': array([ 0.46112314,  0.53887689], dtype=float32)},\n {'class_ids': array([0]),\n  'classes': array([b'0'], dtype=object),\n  'logistic': array([ 0.25014347], dtype=float32),\n  'logits': array([-1.09784722], dtype=float32),\n  'probabilities': array([ 0.74985653,  0.25014347], dtype=float32)},\n {'class_ids': array([0]),\n  'classes': array([b'0'], dtype=object),\n  'logistic': array([ 0.30256674], dtype=float32),\n  'logits': array([-0.83510494], dtype=float32),\n  'probabilities': array([ 0.69743323,  0.30256674], dtype=float32)},\n {'class_ids': array([1]),\n  'classes': array([b'1'], dtype=object),\n  'logistic': array([ 0.73355758], dtype=float32),\n  'logits': array([ 1.012748], dtype=float32),\n  'probabilities': array([ 0.26644242,  0.73355758], dtype=float32)},\n {'class_ids': array([1]),\n  'classes': array([b'1'], dtype=object),\n  'logistic': array([ 0.50920373], dtype=float32),\n  'logits': array([ 0.03681922], dtype=float32),\n  'probabilities': array([ 0.49079621,  0.50920373], dtype=float32)},\n {'class_ids': array([0]),\n  'classes': array([b'0'], dtype=object),\n  'logistic': array([ 0.16728295], dtype=float32),\n  'logits': array([-1.60500717], dtype=float32),\n  'probabilities': array([ 0.832717  ,  0.16728294], dtype=float32)},\n {'class_ids': array([1]),\n  'classes': array([b'1'], dtype=object),\n  'logistic': array([ 0.70655912], dtype=float32),\n  'logits': array([ 0.87873054], dtype=float32),\n  'probabilities': array([ 0.29344091,  0.70655912], dtype=float32)},\n {'class_ids': array([0]),\n  'classes': array([b'0'], dtype=object),\n  'logistic': array([ 0.17913555], dtype=float32),\n  'logits': array([-1.52221525], dtype=float32),\n  'probabilities': array([ 0.8208645 ,  0.17913556], dtype=float32)},\n {'class_ids': array([0]),\n  'classes': array([b'0'], dtype=object),\n  'logistic': array([ 0.03634223], dtype=float32),\n  'logits': array([-3.27775574], dtype=float32),\n  'probabilities': array([ 0.96365774,  0.03634223], dtype=float32)},\n {'class_ids': array([0]),\n  'classes': array([b'0'], dtype=object),\n  'logistic': array([ 0.38978451], dtype=float32),\n  'logits': array([-0.44821811], dtype=float32),\n  'probabilities': array([ 0.61021549,  0.38978449], dtype=float32)},\n {'class_ids': array([0]),\n  'classes': array([b'0'], dtype=object),\n  'logistic': array([ 0.48007777], dtype=float32),\n  'logits': array([-0.07973123], dtype=float32),\n  'probabilities': array([ 0.51992226,  0.48007777], dtype=float32)},\n {'class_ids': array([1]),\n  'classes': array([b'1'], dtype=object),\n  'logistic': array([ 0.76097763], dtype=float32),\n  'logits': array([ 1.15804696], dtype=float32),\n  'probabilities': array([ 0.23902231,  0.76097763], dtype=float32)},\n {'class_ids': array([0]),\n  'classes': array([b'0'], dtype=object),\n  'logistic': array([ 0.2982716], dtype=float32),\n  'logits': array([-0.85554194], dtype=float32),\n  'probabilities': array([ 0.7017284,  0.2982716], dtype=float32)},\n {'class_ids': array([1]),\n  'classes': array([b'1'], dtype=object),\n  'logistic': array([ 0.72876143], dtype=float32),\n  'logits': array([ 0.98834777], dtype=float32),\n  'probabilities': array([ 0.27123854,  0.72876143], dtype=float32)},\n {'class_ids': array([0]),\n  'classes': array([b'0'], dtype=object),\n  'logistic': array([ 0.16838956], dtype=float32),\n  'logits': array([-1.59708405], dtype=float32),\n  'probabilities': array([ 0.8316105 ,  0.16838956], dtype=float32)},\n {'class_ids': array([1]),\n  'classes': array([b'1'], dtype=object),\n  'logistic': array([ 0.60087264], dtype=float32),\n  'logits': array([ 0.40910244], dtype=float32),\n  'probabilities': array([ 0.39912736,  0.60087264], dtype=float32)},\n {'class_ids': array([0]),\n  'classes': array([b'0'], dtype=object),\n  'logistic': array([ 0.28842732], dtype=float32),\n  'logits': array([-0.90303445], dtype=float32),\n  'probabilities': array([ 0.71157271,  0.28842732], dtype=float32)},\n {'class_ids': array([0]),\n  'classes': array([b'0'], dtype=object),\n  'logistic': array([ 0.21650037], dtype=float32),\n  'logits': array([-1.28617835], dtype=float32),\n  'probabilities': array([ 0.78349966,  0.21650037], dtype=float32)},\n {'class_ids': array([0]),\n  'classes': array([b'0'], dtype=object),\n  'logistic': array([ 0.125535], dtype=float32),\n  'logits': array([-1.94102776], dtype=float32),\n  'probabilities': array([ 0.87446499,  0.12553498], dtype=float32)},\n {'class_ids': array([0]),\n  'classes': array([b'0'], dtype=object),\n  'logistic': array([ 0.44263089], dtype=float32),\n  'logits': array([-0.2304914], dtype=float32),\n  'probabilities': array([ 0.55736911,  0.44263092], dtype=float32)},\n {'class_ids': array([0]),\n  'classes': array([b'0'], dtype=object),\n  'logistic': array([ 0.11977188], dtype=float32),\n  'logits': array([-1.99459219], dtype=float32),\n  'probabilities': array([ 0.8802281 ,  0.11977188], dtype=float32)},\n {'class_ids': array([0]),\n  'classes': array([b'0'], dtype=object),\n  'logistic': array([ 0.08494807], dtype=float32),\n  'logits': array([-2.37694073], dtype=float32),\n  'probabilities': array([ 0.91505194,  0.08494806], dtype=float32)},\n {'class_ids': array([0]),\n  'classes': array([b'0'], dtype=object),\n  'logistic': array([ 0.15970051], dtype=float32),\n  'logits': array([-1.66045809], dtype=float32),\n  'probabilities': array([ 0.84029949,  0.15970051], dtype=float32)},\n {'class_ids': array([1]),\n  'classes': array([b'1'], dtype=object),\n  'logistic': array([ 0.62439984], dtype=float32),\n  'logits': array([ 0.50826573], dtype=float32),\n  'probabilities': array([ 0.37560016,  0.62439984], dtype=float32)},\n {'class_ids': array([1]),\n  'classes': array([b'1'], dtype=object),\n  'logistic': array([ 0.5316059], dtype=float32),\n  'logits': array([ 0.1265924], dtype=float32),\n  'probabilities': array([ 0.4683941,  0.5316059], dtype=float32)},\n {'class_ids': array([0]),\n  'classes': array([b'0'], dtype=object),\n  'logistic': array([ 0.07519988], dtype=float32),\n  'logits': array([-2.50942802], dtype=float32),\n  'probabilities': array([ 0.92480016,  0.07519988], dtype=float32)},\n {'class_ids': array([0]),\n  'classes': array([b'0'], dtype=object),\n  'logistic': array([ 0.27442628], dtype=float32),\n  'logits': array([-0.97228003], dtype=float32),\n  'probabilities': array([ 0.72557372,  0.27442628], dtype=float32)},\n {'class_ids': array([1]),\n  'classes': array([b'1'], dtype=object),\n  'logistic': array([ 0.91128987], dtype=float32),\n  'logits': array([ 2.32948661], dtype=float32),\n  'probabilities': array([ 0.08871016,  0.91128987], dtype=float32)},\n {'class_ids': array([0]),\n  'classes': array([b'0'], dtype=object),\n  'logistic': array([ 0.11914355], dtype=float32),\n  'logits': array([-2.00056553], dtype=float32),\n  'probabilities': array([ 0.88085639,  0.11914355], dtype=float32)},\n {'class_ids': array([0]),\n  'classes': array([b'0'], dtype=object),\n  'logistic': array([ 0.11717942], dtype=float32),\n  'logits': array([-2.01941586], dtype=float32),\n  'probabilities': array([ 0.88282061,  0.1171794 ], dtype=float32)},\n {'class_ids': array([0]),\n  'classes': array([b'0'], dtype=object),\n  'logistic': array([ 0.23743522], dtype=float32),\n  'logits': array([-1.16679263], dtype=float32),\n  'probabilities': array([ 0.76256484,  0.23743524], dtype=float32)},\n {'class_ids': array([0]),\n  'classes': array([b'0'], dtype=object),\n  'logistic': array([ 0.06955777], dtype=float32),\n  'logits': array([-2.59350228], dtype=float32),\n  'probabilities': array([ 0.93044215,  0.06955776], dtype=float32)},\n {'class_ids': array([0]),\n  'classes': array([b'0'], dtype=object),\n  'logistic': array([ 0.0841448], dtype=float32),\n  'logits': array([-2.38731909], dtype=float32),\n  'probabilities': array([ 0.91585517,  0.0841448 ], dtype=float32)},\n {'class_ids': array([0]),\n  'classes': array([b'0'], dtype=object),\n  'logistic': array([ 0.25978062], dtype=float32),\n  'logits': array([-1.04710913], dtype=float32),\n  'probabilities': array([ 0.74021941,  0.25978062], dtype=float32)},\n {'class_ids': array([0]),\n  'classes': array([b'0'], dtype=object),\n  'logistic': array([ 0.09848905], dtype=float32),\n  'logits': array([-2.21412683], dtype=float32),\n  'probabilities': array([ 0.90151095,  0.09848905], dtype=float32)},\n {'class_ids': array([0]),\n  'classes': array([b'0'], dtype=object),\n  'logistic': array([ 0.49500108], dtype=float32),\n  'logits': array([-0.0199964], dtype=float32),\n  'probabilities': array([ 0.50499892,  0.49500105], dtype=float32)},\n {'class_ids': array([0]),\n  'classes': array([b'0'], dtype=object),\n  'logistic': array([ 0.38138792], dtype=float32),\n  'logits': array([-0.48366141], dtype=float32),\n  'probabilities': array([ 0.61861211,  0.38138792], dtype=float32)},\n {'class_ids': array([1]),\n  'classes': array([b'1'], dtype=object),\n  'logistic': array([ 0.69964856], dtype=float32),\n  'logits': array([ 0.84562492], dtype=float32),\n  'probabilities': array([ 0.30035144,  0.69964856], dtype=float32)},\n {'class_ids': array([0]),\n  'classes': array([b'0'], dtype=object),\n  'logistic': array([ 0.06151988], dtype=float32),\n  'logits': array([-2.72490144], dtype=float32),\n  'probabilities': array([ 0.93848008,  0.06151987], dtype=float32)},\n {'class_ids': array([0]),\n  'classes': array([b'0'], dtype=object),\n  'logistic': array([ 0.24892853], dtype=float32),\n  'logits': array([-1.10433495], dtype=float32),\n  'probabilities': array([ 0.75107151,  0.24892855], dtype=float32)},\n {'class_ids': array([0]),\n  'classes': array([b'0'], dtype=object),\n  'logistic': array([ 0.23940618], dtype=float32),\n  'logits': array([-1.15593779], dtype=float32),\n  'probabilities': array([ 0.76059377,  0.2394062 ], dtype=float32)},\n {'class_ids': array([1]),\n  'classes': array([b'1'], dtype=object),\n  'logistic': array([ 0.61871129], dtype=float32),\n  'logits': array([ 0.48408198], dtype=float32),\n  'probabilities': array([ 0.38128868,  0.61871129], dtype=float32)},\n {'class_ids': array([1]),\n  'classes': array([b'1'], dtype=object),\n  'logistic': array([ 0.60226387], dtype=float32),\n  'logits': array([ 0.41490698], dtype=float32),\n  'probabilities': array([ 0.39773607,  0.60226387], dtype=float32)},\n {'class_ids': array([0]),\n  'classes': array([b'0'], dtype=object),\n  'logistic': array([ 0.48281115], dtype=float32),\n  'logits': array([-0.06878257], dtype=float32),\n  'probabilities': array([ 0.51718885,  0.48281109], dtype=float32)},\n {'class_ids': array([0]),\n  'classes': array([b'0'], dtype=object),\n  'logistic': array([ 0.44577301], dtype=float32),\n  'logits': array([-0.21776438], dtype=float32),\n  'probabilities': array([ 0.55422699,  0.44577304], dtype=float32)},\n {'class_ids': array([0]),\n  'classes': array([b'0'], dtype=object),\n  'logistic': array([ 0.32664731], dtype=float32),\n  'logits': array([-0.7233882], dtype=float32),\n  'probabilities': array([ 0.67335266,  0.32664731], dtype=float32)},\n {'class_ids': array([1]),\n  'classes': array([b'1'], dtype=object),\n  'logistic': array([ 0.84634262], dtype=float32),\n  'logits': array([ 1.70619941], dtype=float32),\n  'probabilities': array([ 0.1536573 ,  0.84634262], dtype=float32)},\n {'class_ids': array([0]),\n  'classes': array([b'0'], dtype=object),\n  'logistic': array([ 0.43700764], dtype=float32),\n  'logits': array([-0.25331545], dtype=float32),\n  'probabilities': array([ 0.56299239,  0.43700764], dtype=float32)},\n {'class_ids': array([0]),\n  'classes': array([b'0'], dtype=object),\n  'logistic': array([ 0.1205005], dtype=float32),\n  'logits': array([-1.98769903], dtype=float32),\n  'probabilities': array([ 0.8794995,  0.1205005], dtype=float32)},\n {'class_ids': array([0]),\n  'classes': array([b'0'], dtype=object),\n  'logistic': array([ 0.1259293], dtype=float32),\n  'logits': array([-1.93744063], dtype=float32),\n  'probabilities': array([ 0.8740707,  0.1259293], dtype=float32)},\n {'class_ids': array([0]),\n  'classes': array([b'0'], dtype=object),\n  'logistic': array([ 0.06260861], dtype=float32),\n  'logits': array([-2.70619798], dtype=float32),\n  'probabilities': array([ 0.9373914 ,  0.06260861], dtype=float32)},\n {'class_ids': array([1]),\n  'classes': array([b'1'], dtype=object),\n  'logistic': array([ 0.80285877], dtype=float32),\n  'logits': array([ 1.40425849], dtype=float32),\n  'probabilities': array([ 0.19714122,  0.80285877], dtype=float32)},\n {'class_ids': array([0]),\n  'classes': array([b'0'], dtype=object),\n  'logistic': array([ 0.27129868], dtype=float32),\n  'logits': array([-0.98804355], dtype=float32),\n  'probabilities': array([ 0.72870129,  0.27129868], dtype=float32)},\n {'class_ids': array([0]),\n  'classes': array([b'0'], dtype=object),\n  'logistic': array([ 0.07933268], dtype=float32),\n  'logits': array([-2.45144868], dtype=float32),\n  'probabilities': array([ 0.92066735,  0.07933267], dtype=float32)},\n {'class_ids': array([0]),\n  'classes': array([b'0'], dtype=object),\n  'logistic': array([ 0.35592014], dtype=float32),\n  'logits': array([-0.59311628], dtype=float32),\n  'probabilities': array([ 0.64407986,  0.35592017], dtype=float32)},\n {'class_ids': array([0]),\n  'classes': array([b'0'], dtype=object),\n  'logistic': array([ 0.13012613], dtype=float32),\n  'logits': array([-1.89984393], dtype=float32),\n  'probabilities': array([ 0.86987388,  0.13012615], dtype=float32)},\n {'class_ids': array([0]),\n  'classes': array([b'0'], dtype=object),\n  'logistic': array([ 0.07059351], dtype=float32),\n  'logits': array([-2.57760811], dtype=float32),\n  'probabilities': array([ 0.92940646,  0.0705935 ], dtype=float32)},\n {'class_ids': array([1]),\n  'classes': array([b'1'], dtype=object),\n  'logistic': array([ 0.67722619], dtype=float32),\n  'logits': array([ 0.74105358], dtype=float32),\n  'probabilities': array([ 0.32277378,  0.67722619], dtype=float32)},\n {'class_ids': array([1]),\n  'classes': array([b'1'], dtype=object),\n  'logistic': array([ 0.50441033], dtype=float32),\n  'logits': array([ 0.01764178], dtype=float32),\n  'probabilities': array([ 0.49558967,  0.50441033], dtype=float32)},\n {'class_ids': array([0]),\n  'classes': array([b'0'], dtype=object),\n  'logistic': array([ 0.39602849], dtype=float32),\n  'logits': array([-0.42204094], dtype=float32),\n  'probabilities': array([ 0.60397154,  0.39602849], dtype=float32)},\n {'class_ids': array([1]),\n  'classes': array([b'1'], dtype=object),\n  'logistic': array([ 0.78332829], dtype=float32),\n  'logits': array([ 1.28516889], dtype=float32),\n  'probabilities': array([ 0.21667165,  0.78332829], dtype=float32)},\n {'class_ids': array([0]),\n  'classes': array([b'0'], dtype=object),\n  'logistic': array([ 0.45352894], dtype=float32),\n  'logits': array([-0.18642235], dtype=float32),\n  'probabilities': array([ 0.54647106,  0.45352891], dtype=float32)},\n {'class_ids': array([1]),\n  'classes': array([b'1'], dtype=object),\n  'logistic': array([ 0.73944259], dtype=float32),\n  'logits': array([ 1.04307342], dtype=float32),\n  'probabilities': array([ 0.26055741,  0.73944259], dtype=float32)},\n {'class_ids': array([1]),\n  'classes': array([b'1'], dtype=object),\n  'logistic': array([ 0.63699168], dtype=float32),\n  'logits': array([ 0.56233096], dtype=float32),\n  'probabilities': array([ 0.36300829,  0.63699168], dtype=float32)},\n {'class_ids': array([0]),\n  'classes': array([b'0'], dtype=object),\n  'logistic': array([ 0.086628], dtype=float32),\n  'logits': array([-2.35552025], dtype=float32),\n  'probabilities': array([ 0.91337204,  0.08662799], dtype=float32)},\n {'class_ids': array([0]),\n  'classes': array([b'0'], dtype=object),\n  'logistic': array([ 0.0839321], dtype=float32),\n  'logits': array([-2.39008236], dtype=float32),\n  'probabilities': array([ 0.9160679,  0.0839321], dtype=float32)},\n {'class_ids': array([0]),\n  'classes': array([b'0'], dtype=object),\n  'logistic': array([ 0.43717822], dtype=float32),\n  'logits': array([-0.25262213], dtype=float32),\n  'probabilities': array([ 0.56282181,  0.43717822], dtype=float32)},\n {'class_ids': array([0]),\n  'classes': array([b'0'], dtype=object),\n  'logistic': array([ 0.3336086], dtype=float32),\n  'logits': array([-0.69190884], dtype=float32),\n  'probabilities': array([ 0.66639143,  0.33360857], dtype=float32)},\n {'class_ids': array([0]),\n  'classes': array([b'0'], dtype=object),\n  'logistic': array([ 0.04405217], dtype=float32),\n  'logits': array([-3.07732868], dtype=float32),\n  'probabilities': array([ 0.95594788,  0.04405217], dtype=float32)},\n {'class_ids': array([1]),\n  'classes': array([b'1'], dtype=object),\n  'logistic': array([ 0.7061305], dtype=float32),\n  'logits': array([ 0.8766644], dtype=float32),\n  'probabilities': array([ 0.29386947,  0.7061305 ], dtype=float32)},\n {'class_ids': array([0]),\n  'classes': array([b'0'], dtype=object),\n  'logistic': array([ 0.24993183], dtype=float32),\n  'logits': array([-1.0989759], dtype=float32),\n  'probabilities': array([ 0.75006819,  0.24993183], dtype=float32)},\n {'class_ids': array([0]),\n  'classes': array([b'0'], dtype=object),\n  'logistic': array([ 0.24809706], dtype=float32),\n  'logits': array([-1.10878718], dtype=float32),\n  'probabilities': array([ 0.75190294,  0.24809708], dtype=float32)},\n {'class_ids': array([0]),\n  'classes': array([b'0'], dtype=object),\n  'logistic': array([ 0.03544069], dtype=float32),\n  'logits': array([-3.30381083], dtype=float32),\n  'probabilities': array([ 0.96455926,  0.03544069], dtype=float32)},\n {'class_ids': array([0]),\n  'classes': array([b'0'], dtype=object),\n  'logistic': array([ 0.02947324], dtype=float32),\n  'logits': array([-3.49435639], dtype=float32),\n  'probabilities': array([ 0.97052675,  0.02947324], dtype=float32)},\n {'class_ids': array([1]),\n  'classes': array([b'1'], dtype=object),\n  'logistic': array([ 0.56938785], dtype=float32),\n  'logits': array([ 0.2793541], dtype=float32),\n  'probabilities': array([ 0.43061215,  0.56938785], dtype=float32)},\n {'class_ids': array([0]),\n  'classes': array([b'0'], dtype=object),\n  'logistic': array([ 0.37675899], dtype=float32),\n  'logits': array([-0.50332761], dtype=float32),\n  'probabilities': array([ 0.62324101,  0.37675899], dtype=float32)},\n {'class_ids': array([0]),\n  'classes': array([b'0'], dtype=object),\n  'logistic': array([ 0.46303362], dtype=float32),\n  'logits': array([-0.1481359], dtype=float32),\n  'probabilities': array([ 0.53696638,  0.46303359], dtype=float32)},\n {'class_ids': array([1]),\n  'classes': array([b'1'], dtype=object),\n  'logistic': array([ 0.59520245], dtype=float32),\n  'logits': array([ 0.3855145], dtype=float32),\n  'probabilities': array([ 0.40479755,  0.59520245], dtype=float32)},\n {'class_ids': array([0]),\n  'classes': array([b'0'], dtype=object),\n  'logistic': array([ 0.19773303], dtype=float32),\n  'logits': array([-1.40052366], dtype=float32),\n  'probabilities': array([ 0.80226701,  0.19773303], dtype=float32)},\n {'class_ids': array([0]),\n  'classes': array([b'0'], dtype=object),\n  'logistic': array([ 0.19381568], dtype=float32),\n  'logits': array([-1.42540479], dtype=float32),\n  'probabilities': array([ 0.80618429,  0.19381568], dtype=float32)},\n {'class_ids': array([0]),\n  'classes': array([b'0'], dtype=object),\n  'logistic': array([ 0.17197309], dtype=float32),\n  'logits': array([-1.57170761], dtype=float32),\n  'probabilities': array([ 0.82802689,  0.17197309], dtype=float32)},\n {'class_ids': array([1]),\n  'classes': array([b'1'], dtype=object),\n  'logistic': array([ 0.52649713], dtype=float32),\n  'logits': array([ 0.10608792], dtype=float32),\n  'probabilities': array([ 0.47350287,  0.52649713], dtype=float32)},\n {'class_ids': array([0]),\n  'classes': array([b'0'], dtype=object),\n  'logistic': array([ 0.08802827], dtype=float32),\n  'logits': array([-2.33795094], dtype=float32),\n  'probabilities': array([ 0.91197175,  0.08802827], dtype=float32)},\n {'class_ids': array([1]),\n  'classes': array([b'1'], dtype=object),\n  'logistic': array([ 0.53070402], dtype=float32),\n  'logits': array([ 0.12297082], dtype=float32),\n  'probabilities': array([ 0.46929598,  0.53070402], dtype=float32)},\n {'class_ids': array([0]),\n  'classes': array([b'0'], dtype=object),\n  'logistic': array([ 0.06528609], dtype=float32),\n  'logits': array([-2.66146159], dtype=float32),\n  'probabilities': array([ 0.93471396,  0.06528609], dtype=float32)},\n {'class_ids': array([0]),\n  'classes': array([b'0'], dtype=object),\n  'logistic': array([ 0.18815134], dtype=float32),\n  'logits': array([-1.46206725], dtype=float32),\n  'probabilities': array([ 0.81184864,  0.18815134], dtype=float32)},\n {'class_ids': array([0]),\n  'classes': array([b'0'], dtype=object),\n  'logistic': array([ 0.14343804], dtype=float32),\n  'logits': array([-1.78702354], dtype=float32),\n  'probabilities': array([ 0.85656202,  0.14343804], dtype=float32)},\n {'class_ids': array([0]),\n  'classes': array([b'0'], dtype=object),\n  'logistic': array([ 0.1048111], dtype=float32),\n  'logits': array([-2.14487505], dtype=float32),\n  'probabilities': array([ 0.89518887,  0.1048111 ], dtype=float32)},\n {'class_ids': array([1]),\n  'classes': array([b'1'], dtype=object),\n  'logistic': array([ 0.60254019], dtype=float32),\n  'logits': array([ 0.41606069], dtype=float32),\n  'probabilities': array([ 0.39745978,  0.60254019], dtype=float32)},\n {'class_ids': array([0]),\n  'classes': array([b'0'], dtype=object),\n  'logistic': array([ 0.13171878], dtype=float32),\n  'logits': array([-1.88584638], dtype=float32),\n  'probabilities': array([ 0.86828119,  0.13171878], dtype=float32)},\n {'class_ids': array([0]),\n  'classes': array([b'0'], dtype=object),\n  'logistic': array([ 0.04522909], dtype=float32),\n  'logits': array([-3.04973102], dtype=float32),\n  'probabilities': array([ 0.95477092,  0.04522908], dtype=float32)},\n {'class_ids': array([0]),\n  'classes': array([b'0'], dtype=object),\n  'logistic': array([ 0.47661906], dtype=float32),\n  'logits': array([-0.09359193], dtype=float32),\n  'probabilities': array([ 0.52338094,  0.47661909], dtype=float32)},\n {'class_ids': array([1]),\n  'classes': array([b'1'], dtype=object),\n  'logistic': array([ 0.85799468], dtype=float32),\n  'logits': array([ 1.79873347], dtype=float32),\n  'probabilities': array([ 0.14200531,  0.85799468], dtype=float32)},\n {'class_ids': array([0]),\n  'classes': array([b'0'], dtype=object),\n  'logistic': array([ 0.3642928], dtype=float32),\n  'logits': array([-0.5567801], dtype=float32),\n  'probabilities': array([ 0.6357072 ,  0.36429283], dtype=float32)},\n {'class_ids': array([0]),\n  'classes': array([b'0'], dtype=object),\n  'logistic': array([ 0.23578866], dtype=float32),\n  'logits': array([-1.17590857], dtype=float32),\n  'probabilities': array([ 0.76421136,  0.23578864], dtype=float32)},\n {'class_ids': array([0]),\n  'classes': array([b'0'], dtype=object),\n  'logistic': array([ 0.4995254], dtype=float32),\n  'logits': array([-0.00189829], dtype=float32),\n  'probabilities': array([ 0.50047457,  0.49952543], dtype=float32)},\n {'class_ids': array([0]),\n  'classes': array([b'0'], dtype=object),\n  'logistic': array([ 0.06559807], dtype=float32),\n  'logits': array([-2.65636039], dtype=float32),\n  'probabilities': array([ 0.93440187,  0.06559806], dtype=float32)},\n {'class_ids': array([0]),\n  'classes': array([b'0'], dtype=object),\n  'logistic': array([ 0.07326483], dtype=float32),\n  'logits': array([-2.53758717], dtype=float32),\n  'probabilities': array([ 0.9267351 ,  0.07326482], dtype=float32)},\n {'class_ids': array([0]),\n  'classes': array([b'0'], dtype=object),\n  'logistic': array([ 0.28408259], dtype=float32),\n  'logits': array([-0.92429972], dtype=float32),\n  'probabilities': array([ 0.71591741,  0.28408262], dtype=float32)},\n {'class_ids': array([0]),\n  'classes': array([b'0'], dtype=object),\n  'logistic': array([ 0.08403008], dtype=float32),\n  'logits': array([-2.38880873], dtype=float32),\n  'probabilities': array([ 0.91596991,  0.08403008], dtype=float32)},\n {'class_ids': array([0]),\n  'classes': array([b'0'], dtype=object),\n  'logistic': array([ 0.19576079], dtype=float32),\n  'logits': array([-1.41300333], dtype=float32),\n  'probabilities': array([ 0.80423921,  0.19576079], dtype=float32)},\n {'class_ids': array([0]),\n  'classes': array([b'0'], dtype=object),\n  'logistic': array([ 0.05917978], dtype=float32),\n  'logits': array([-2.76617217], dtype=float32),\n  'probabilities': array([ 0.94082022,  0.05917978], dtype=float32)},\n {'class_ids': array([0]),\n  'classes': array([b'0'], dtype=object),\n  'logistic': array([ 0.23961049], dtype=float32),\n  'logits': array([-1.15481627], dtype=float32),\n  'probabilities': array([ 0.76038951,  0.23961046], dtype=float32)},\n {'class_ids': array([0]),\n  'classes': array([b'0'], dtype=object),\n  'logistic': array([ 0.38365495], dtype=float32),\n  'logits': array([-0.4740634], dtype=float32),\n  'probabilities': array([ 0.61634505,  0.38365495], dtype=float32)},\n {'class_ids': array([0]),\n  'classes': array([b'0'], dtype=object),\n  'logistic': array([ 0.41864026], dtype=float32),\n  'logits': array([-0.3283577], dtype=float32),\n  'probabilities': array([ 0.58135974,  0.41864029], dtype=float32)},\n {'class_ids': array([0]),\n  'classes': array([b'0'], dtype=object),\n  'logistic': array([ 0.06875698], dtype=float32),\n  'logits': array([-2.60594201], dtype=float32),\n  'probabilities': array([ 0.931243  ,  0.06875698], dtype=float32)},\n {'class_ids': array([0]),\n  'classes': array([b'0'], dtype=object),\n  'logistic': array([ 0.4017314], dtype=float32),\n  'logits': array([-0.39825606], dtype=float32),\n  'probabilities': array([ 0.59826857,  0.4017314 ], dtype=float32)},\n {'class_ids': array([0]),\n  'classes': array([b'0'], dtype=object),\n  'logistic': array([ 0.15973264], dtype=float32),\n  'logits': array([-1.66021872], dtype=float32),\n  'probabilities': array([ 0.84026742,  0.15973264], dtype=float32)},\n {'class_ids': array([0]),\n  'classes': array([b'0'], dtype=object),\n  'logistic': array([ 0.27643785], dtype=float32),\n  'logits': array([-0.9622004], dtype=float32),\n  'probabilities': array([ 0.72356218,  0.27643788], dtype=float32)},\n {'class_ids': array([1]),\n  'classes': array([b'1'], dtype=object),\n  'logistic': array([ 0.6757558], dtype=float32),\n  'logits': array([ 0.73433471], dtype=float32),\n  'probabilities': array([ 0.32424423,  0.6757558 ], dtype=float32)},\n {'class_ids': array([0]),\n  'classes': array([b'0'], dtype=object),\n  'logistic': array([ 0.1260858], dtype=float32),\n  'logits': array([-1.93601954], dtype=float32),\n  'probabilities': array([ 0.87391418,  0.1260858 ], dtype=float32)}]"
          },
          "metadata": {}
        }
      ]
    },
    {
      "metadata": {
        "_uuid": "3733fb1c020f977a447a6761c2f7bd652021c77b"
      },
      "cell_type": "markdown",
      "source": "## Let's test the data with a DNN Classifier"
    },
    {
      "metadata": {
        "collapsed": true,
        "trusted": true,
        "_uuid": "7069597ea5008fb801ea6ced88d57bd20c01802d"
      },
      "cell_type": "code",
      "source": "input_func = tf.estimator.inputs.pandas_input_fn(X_train, y_train, batch_size = 16, num_epochs = 1000, shuffle = True)",
      "execution_count": 50,
      "outputs": []
    },
    {
      "metadata": {
        "trusted": true,
        "_uuid": "74d5888be1cbb19b78f43a6545e47dea6337c156"
      },
      "cell_type": "code",
      "source": "dnn_model = tf.estimator.DNNClassifier(hidden_units = [10, 8, 4], feature_columns = feat_cols, n_classes = 2)",
      "execution_count": 59,
      "outputs": [
        {
          "output_type": "stream",
          "text": "INFO:tensorflow:Using default config.\nWARNING:tensorflow:Using temporary folder as model directory: /tmp/tmp_7jznuo3\nINFO:tensorflow:Using config: {'_model_dir': '/tmp/tmp_7jznuo3', '_tf_random_seed': None, '_save_summary_steps': 100, '_save_checkpoints_steps': None, '_save_checkpoints_secs': 600, '_session_config': None, '_keep_checkpoint_max': 5, '_keep_checkpoint_every_n_hours': 10000, '_log_step_count_steps': 100, '_train_distribute': None, '_device_fn': None, '_service': None, '_cluster_spec': <tensorflow.python.training.server_lib.ClusterSpec object at 0x7fe091a7eba8>, '_task_type': 'worker', '_task_id': 0, '_global_id_in_cluster': 0, '_master': '', '_evaluation_master': '', '_is_chief': True, '_num_ps_replicas': 0, '_num_worker_replicas': 1}\n",
          "name": "stdout"
        }
      ]
    },
    {
      "metadata": {
        "trusted": true,
        "_uuid": "672f0ad0f5a699f3d015d0912f1998bdf88b2e66"
      },
      "cell_type": "code",
      "source": "dnn_model.train(input_fn = input_func, steps = 10000)",
      "execution_count": 60,
      "outputs": [
        {
          "output_type": "stream",
          "text": "INFO:tensorflow:Calling model_fn.\nINFO:tensorflow:Done calling model_fn.\nINFO:tensorflow:Create CheckpointSaverHook.\nINFO:tensorflow:Graph was finalized.\nINFO:tensorflow:Running local_init_op.\nINFO:tensorflow:Done running local_init_op.\nINFO:tensorflow:Saving checkpoints for 0 into /tmp/tmp_7jznuo3/model.ckpt.\nINFO:tensorflow:loss = 11.1368, step = 1\nINFO:tensorflow:global_step/sec: 357.281\nINFO:tensorflow:loss = 12.4092, step = 101 (0.283 sec)\nINFO:tensorflow:global_step/sec: 523.245\nINFO:tensorflow:loss = 7.1179, step = 201 (0.190 sec)\nINFO:tensorflow:global_step/sec: 484.369\nINFO:tensorflow:loss = 7.80572, step = 301 (0.206 sec)\nINFO:tensorflow:global_step/sec: 444.408\nINFO:tensorflow:loss = 9.03738, step = 401 (0.225 sec)\nINFO:tensorflow:global_step/sec: 497.814\nINFO:tensorflow:loss = 9.14507, step = 501 (0.201 sec)\nINFO:tensorflow:global_step/sec: 518.848\nINFO:tensorflow:loss = 8.87278, step = 601 (0.193 sec)\nINFO:tensorflow:global_step/sec: 531.741\nINFO:tensorflow:loss = 5.06399, step = 701 (0.188 sec)\nINFO:tensorflow:global_step/sec: 496.46\nINFO:tensorflow:loss = 9.94662, step = 801 (0.202 sec)\nINFO:tensorflow:global_step/sec: 521.656\nINFO:tensorflow:loss = 4.53026, step = 901 (0.191 sec)\nINFO:tensorflow:global_step/sec: 510.961\nINFO:tensorflow:loss = 3.77001, step = 1001 (0.196 sec)\nINFO:tensorflow:global_step/sec: 512.091\nINFO:tensorflow:loss = 7.63533, step = 1101 (0.196 sec)\nINFO:tensorflow:global_step/sec: 506.711\nINFO:tensorflow:loss = 10.8136, step = 1201 (0.197 sec)\nINFO:tensorflow:global_step/sec: 512.112\nINFO:tensorflow:loss = 6.93614, step = 1301 (0.195 sec)\nINFO:tensorflow:global_step/sec: 531.285\nINFO:tensorflow:loss = 5.60798, step = 1401 (0.188 sec)\nINFO:tensorflow:global_step/sec: 503.027\nINFO:tensorflow:loss = 7.44316, step = 1501 (0.199 sec)\nINFO:tensorflow:global_step/sec: 540.88\nINFO:tensorflow:loss = 4.77541, step = 1601 (0.187 sec)\nINFO:tensorflow:global_step/sec: 501.121\nINFO:tensorflow:loss = 6.22161, step = 1701 (0.198 sec)\nINFO:tensorflow:global_step/sec: 507.524\nINFO:tensorflow:loss = 5.5604, step = 1801 (0.197 sec)\nINFO:tensorflow:global_step/sec: 506.389\nINFO:tensorflow:loss = 4.97228, step = 1901 (0.197 sec)\nINFO:tensorflow:global_step/sec: 469.71\nINFO:tensorflow:loss = 7.20653, step = 2001 (0.213 sec)\nINFO:tensorflow:global_step/sec: 484.156\nINFO:tensorflow:loss = 6.937, step = 2101 (0.207 sec)\nINFO:tensorflow:global_step/sec: 479.941\nINFO:tensorflow:loss = 9.26872, step = 2201 (0.208 sec)\nINFO:tensorflow:global_step/sec: 486.398\nINFO:tensorflow:loss = 7.70199, step = 2301 (0.206 sec)\nINFO:tensorflow:global_step/sec: 484.467\nINFO:tensorflow:loss = 6.88253, step = 2401 (0.206 sec)\nINFO:tensorflow:global_step/sec: 473.294\nINFO:tensorflow:loss = 4.40872, step = 2501 (0.211 sec)\nINFO:tensorflow:global_step/sec: 474.442\nINFO:tensorflow:loss = 8.97212, step = 2601 (0.211 sec)\nINFO:tensorflow:global_step/sec: 501.837\nINFO:tensorflow:loss = 6.11898, step = 2701 (0.199 sec)\nINFO:tensorflow:global_step/sec: 508.172\nINFO:tensorflow:loss = 3.91706, step = 2801 (0.197 sec)\nINFO:tensorflow:global_step/sec: 505.734\nINFO:tensorflow:loss = 8.7472, step = 2901 (0.198 sec)\nINFO:tensorflow:global_step/sec: 505.939\nINFO:tensorflow:loss = 5.08124, step = 3001 (0.198 sec)\nINFO:tensorflow:global_step/sec: 508.876\nINFO:tensorflow:loss = 5.69695, step = 3101 (0.196 sec)\nINFO:tensorflow:global_step/sec: 505.016\nINFO:tensorflow:loss = 6.04957, step = 3201 (0.198 sec)\nINFO:tensorflow:global_step/sec: 511.718\nINFO:tensorflow:loss = 4.46508, step = 3301 (0.195 sec)\nINFO:tensorflow:global_step/sec: 484.747\nINFO:tensorflow:loss = 6.71628, step = 3401 (0.206 sec)\nINFO:tensorflow:global_step/sec: 524.179\nINFO:tensorflow:loss = 7.05756, step = 3501 (0.192 sec)\nINFO:tensorflow:global_step/sec: 498.087\nINFO:tensorflow:loss = 5.46038, step = 3601 (0.200 sec)\nINFO:tensorflow:global_step/sec: 500.634\nINFO:tensorflow:loss = 4.47874, step = 3701 (0.200 sec)\nINFO:tensorflow:global_step/sec: 500.098\nINFO:tensorflow:loss = 8.73133, step = 3801 (0.200 sec)\nINFO:tensorflow:global_step/sec: 487.179\nINFO:tensorflow:loss = 3.11608, step = 3901 (0.205 sec)\nINFO:tensorflow:global_step/sec: 504.364\nINFO:tensorflow:loss = 8.42132, step = 4001 (0.198 sec)\nINFO:tensorflow:global_step/sec: 490.515\nINFO:tensorflow:loss = 4.86658, step = 4101 (0.204 sec)\nINFO:tensorflow:global_step/sec: 526.786\nINFO:tensorflow:loss = 5.17555, step = 4201 (0.190 sec)\nINFO:tensorflow:global_step/sec: 498.289\nINFO:tensorflow:loss = 6.15941, step = 4301 (0.201 sec)\nINFO:tensorflow:global_step/sec: 517.85\nINFO:tensorflow:loss = 6.2967, step = 4401 (0.193 sec)\nINFO:tensorflow:global_step/sec: 500.604\nINFO:tensorflow:loss = 6.44254, step = 4501 (0.200 sec)\nINFO:tensorflow:global_step/sec: 500.083\nINFO:tensorflow:loss = 5.07003, step = 4601 (0.200 sec)\nINFO:tensorflow:global_step/sec: 505.823\nINFO:tensorflow:loss = 8.40389, step = 4701 (0.198 sec)\nINFO:tensorflow:global_step/sec: 505.469\nINFO:tensorflow:loss = 11.2889, step = 4801 (0.198 sec)\nINFO:tensorflow:global_step/sec: 499\nINFO:tensorflow:loss = 6.65118, step = 4901 (0.201 sec)\nINFO:tensorflow:global_step/sec: 520.821\nINFO:tensorflow:loss = 8.93828, step = 5001 (0.192 sec)\nINFO:tensorflow:global_step/sec: 503.563\nINFO:tensorflow:loss = 6.16299, step = 5101 (0.198 sec)\nINFO:tensorflow:global_step/sec: 508.905\nINFO:tensorflow:loss = 1.92078, step = 5201 (0.197 sec)\nINFO:tensorflow:global_step/sec: 509.378\nINFO:tensorflow:loss = 6.92205, step = 5301 (0.196 sec)\nINFO:tensorflow:global_step/sec: 502.129\nINFO:tensorflow:loss = 9.41853, step = 5401 (0.199 sec)\nINFO:tensorflow:global_step/sec: 498.566\nINFO:tensorflow:loss = 3.96768, step = 5501 (0.201 sec)\nINFO:tensorflow:global_step/sec: 504.432\nINFO:tensorflow:loss = 7.90547, step = 5601 (0.198 sec)\nINFO:tensorflow:global_step/sec: 489.837\nINFO:tensorflow:loss = 7.43007, step = 5701 (0.204 sec)\nINFO:tensorflow:global_step/sec: 496.307\nINFO:tensorflow:loss = 4.08763, step = 5801 (0.202 sec)\nINFO:tensorflow:global_step/sec: 507.789\nINFO:tensorflow:loss = 4.98558, step = 5901 (0.197 sec)\nINFO:tensorflow:global_step/sec: 514.728\nINFO:tensorflow:loss = 5.97443, step = 6001 (0.195 sec)\nINFO:tensorflow:global_step/sec: 510.511\nINFO:tensorflow:loss = 3.53252, step = 6101 (0.196 sec)\nINFO:tensorflow:global_step/sec: 523.664\nINFO:tensorflow:loss = 6.10887, step = 6201 (0.191 sec)\nINFO:tensorflow:global_step/sec: 504.944\nINFO:tensorflow:loss = 6.34894, step = 6301 (0.198 sec)\nINFO:tensorflow:global_step/sec: 503.492\nINFO:tensorflow:loss = 8.15869, step = 6401 (0.199 sec)\nINFO:tensorflow:global_step/sec: 500.218\nINFO:tensorflow:loss = 7.24617, step = 6501 (0.200 sec)\nINFO:tensorflow:global_step/sec: 501.291\nINFO:tensorflow:loss = 5.75353, step = 6601 (0.199 sec)\nINFO:tensorflow:global_step/sec: 507.264\nINFO:tensorflow:loss = 4.92852, step = 6701 (0.197 sec)\nINFO:tensorflow:global_step/sec: 505.869\nINFO:tensorflow:loss = 7.11119, step = 6801 (0.198 sec)\nINFO:tensorflow:global_step/sec: 508.875\nINFO:tensorflow:loss = 6.46733, step = 6901 (0.196 sec)\nINFO:tensorflow:global_step/sec: 470.648\nINFO:tensorflow:loss = 3.45403, step = 7001 (0.213 sec)\nINFO:tensorflow:global_step/sec: 478.923\nINFO:tensorflow:loss = 6.22718, step = 7101 (0.209 sec)\nINFO:tensorflow:global_step/sec: 475.092\nINFO:tensorflow:loss = 9.09997, step = 7201 (0.210 sec)\nINFO:tensorflow:global_step/sec: 474.721\nINFO:tensorflow:loss = 4.69198, step = 7301 (0.211 sec)\nINFO:tensorflow:global_step/sec: 481.419\nINFO:tensorflow:loss = 7.56094, step = 7401 (0.208 sec)\nINFO:tensorflow:global_step/sec: 479.538\nINFO:tensorflow:loss = 7.76324, step = 7501 (0.208 sec)\nINFO:tensorflow:global_step/sec: 481.502\nINFO:tensorflow:loss = 4.12901, step = 7601 (0.208 sec)\nINFO:tensorflow:global_step/sec: 477.263\nINFO:tensorflow:loss = 3.9791, step = 7701 (0.209 sec)\nINFO:tensorflow:global_step/sec: 476.438\nINFO:tensorflow:loss = 5.79242, step = 7801 (0.210 sec)\nINFO:tensorflow:global_step/sec: 472.504\nINFO:tensorflow:loss = 8.28912, step = 7901 (0.212 sec)\nINFO:tensorflow:global_step/sec: 476.543\nINFO:tensorflow:loss = 3.59508, step = 8001 (0.210 sec)\nINFO:tensorflow:global_step/sec: 501.673\nINFO:tensorflow:loss = 4.28675, step = 8101 (0.199 sec)\nINFO:tensorflow:global_step/sec: 503.766\n",
          "name": "stdout"
        },
        {
          "output_type": "stream",
          "text": "INFO:tensorflow:loss = 3.72261, step = 8201 (0.198 sec)\nINFO:tensorflow:global_step/sec: 504.729\nINFO:tensorflow:loss = 7.58246, step = 8301 (0.198 sec)\nINFO:tensorflow:global_step/sec: 538.396\nINFO:tensorflow:loss = 7.40988, step = 8401 (0.186 sec)\nINFO:tensorflow:global_step/sec: 496.51\nINFO:tensorflow:loss = 8.50249, step = 8501 (0.201 sec)\nINFO:tensorflow:global_step/sec: 522.767\nINFO:tensorflow:loss = 4.25269, step = 8601 (0.192 sec)\nINFO:tensorflow:global_step/sec: 502.735\nINFO:tensorflow:loss = 5.29304, step = 8701 (0.199 sec)\nINFO:tensorflow:global_step/sec: 503.012\nINFO:tensorflow:loss = 5.56071, step = 8801 (0.199 sec)\nINFO:tensorflow:global_step/sec: 507.669\nINFO:tensorflow:loss = 5.16672, step = 8901 (0.197 sec)\nINFO:tensorflow:global_step/sec: 473.047\nINFO:tensorflow:loss = 3.70047, step = 9001 (0.211 sec)\nINFO:tensorflow:global_step/sec: 488.978\nINFO:tensorflow:loss = 3.95324, step = 9101 (0.205 sec)\nINFO:tensorflow:global_step/sec: 509.025\nINFO:tensorflow:loss = 3.75285, step = 9201 (0.197 sec)\nINFO:tensorflow:global_step/sec: 509.768\nINFO:tensorflow:loss = 9.93913, step = 9301 (0.196 sec)\nINFO:tensorflow:global_step/sec: 505.343\nINFO:tensorflow:loss = 7.33452, step = 9401 (0.198 sec)\nINFO:tensorflow:global_step/sec: 517.985\nINFO:tensorflow:loss = 8.79635, step = 9501 (0.193 sec)\nINFO:tensorflow:global_step/sec: 499.192\nINFO:tensorflow:loss = 4.93816, step = 9601 (0.200 sec)\nINFO:tensorflow:global_step/sec: 500.093\nINFO:tensorflow:loss = 7.83337, step = 9701 (0.201 sec)\nINFO:tensorflow:global_step/sec: 492.16\nINFO:tensorflow:loss = 9.44646, step = 9801 (0.203 sec)\nINFO:tensorflow:global_step/sec: 497.406\nINFO:tensorflow:loss = 4.54346, step = 9901 (0.201 sec)\nINFO:tensorflow:Saving checkpoints for 10000 into /tmp/tmp_7jznuo3/model.ckpt.\nINFO:tensorflow:Loss for final step: 5.52702.\n",
          "name": "stdout"
        },
        {
          "output_type": "execute_result",
          "execution_count": 60,
          "data": {
            "text/plain": "<tensorflow.python.estimator.canned.dnn.DNNClassifier at 0x7fe091a7e860>"
          },
          "metadata": {}
        }
      ]
    },
    {
      "metadata": {
        "collapsed": true,
        "trusted": true,
        "_uuid": "ac817d69f2e6f05bc6ea6b3677b0e2f688fd6d3a"
      },
      "cell_type": "code",
      "source": "test_input_func = tf.estimator.inputs.pandas_input_fn(x = X_test, y = y_test, batch_size = 16, num_epochs = 1, shuffle = False)",
      "execution_count": 61,
      "outputs": []
    },
    {
      "metadata": {
        "trusted": true,
        "_uuid": "fa01b0d8b2870651922aa18037ca3d27da0b2462"
      },
      "cell_type": "code",
      "source": "dnn_model.evaluate(test_input_func)",
      "execution_count": 62,
      "outputs": [
        {
          "output_type": "stream",
          "text": "INFO:tensorflow:Calling model_fn.\nWARNING:tensorflow:Trapezoidal rule is known to produce incorrect PR-AUCs; please switch to \"careful_interpolation\" instead.\nWARNING:tensorflow:Trapezoidal rule is known to produce incorrect PR-AUCs; please switch to \"careful_interpolation\" instead.\nINFO:tensorflow:Done calling model_fn.\nINFO:tensorflow:Starting evaluation at 2018-05-19-04:53:50\nINFO:tensorflow:Graph was finalized.\nINFO:tensorflow:Restoring parameters from /tmp/tmp_7jznuo3/model.ckpt-10000\nINFO:tensorflow:Running local_init_op.\nINFO:tensorflow:Done running local_init_op.\nINFO:tensorflow:Finished evaluation at 2018-05-19-04:53:50\nINFO:tensorflow:Saving dict for global step 10000: accuracy = 0.744589, accuracy_baseline = 0.649351, auc = 0.800617, auc_precision_recall = 0.688542, average_loss = 0.571983, global_step = 10000, label/mean = 0.350649, loss = 8.80854, precision = 0.661765, prediction/mean = 0.340956, recall = 0.555556\n",
          "name": "stdout"
        },
        {
          "output_type": "execute_result",
          "execution_count": 62,
          "data": {
            "text/plain": "{'accuracy': 0.74458873,\n 'accuracy_baseline': 0.64935064,\n 'auc': 0.80061728,\n 'auc_precision_recall': 0.68854189,\n 'average_loss': 0.57198304,\n 'global_step': 10000,\n 'label/mean': 0.35064936,\n 'loss': 8.8085384,\n 'precision': 0.66176468,\n 'prediction/mean': 0.34095606,\n 'recall': 0.55555558}"
          },
          "metadata": {}
        }
      ]
    },
    {
      "metadata": {
        "_uuid": "a2a5d664730e2a6a9dac062876abaf4315c0561a"
      },
      "cell_type": "markdown",
      "source": "## Conclusion: \n### Linear Classifier = 74.89 % Accurate\n### DNN Classifier = 74.45 % Accurate"
    },
    {
      "metadata": {
        "collapsed": true,
        "trusted": false,
        "_uuid": "f75f7e8b8899348638124cd49bc0ae801ff1583f"
      },
      "cell_type": "code",
      "source": "",
      "execution_count": null,
      "outputs": []
    }
  ],
  "metadata": {
    "kernelspec": {
      "display_name": "Python 3",
      "language": "python",
      "name": "python3"
    },
    "language_info": {
      "codemirror_mode": {
        "name": "ipython",
        "version": 3
      },
      "file_extension": ".py",
      "mimetype": "text/x-python",
      "name": "python",
      "nbconvert_exporter": "python",
      "pygments_lexer": "ipython3",
      "version": "3.6.1"
    }
  },
  "nbformat": 4,
  "nbformat_minor": 1
}