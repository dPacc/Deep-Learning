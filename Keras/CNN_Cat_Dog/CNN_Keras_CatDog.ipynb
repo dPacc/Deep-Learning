{
 "cells": [
  {
   "cell_type": "markdown",
   "metadata": {},
   "source": [
    "# CNN"
   ]
  },
  {
   "cell_type": "code",
   "execution_count": 1,
   "metadata": {},
   "outputs": [],
   "source": [
    "from keras.models import Sequential\n",
    "from keras.layers import Conv2D\n",
    "from keras.layers import MaxPooling2D\n",
    "from keras.layers import Flatten\n",
    "from keras.layers import Dense\n",
    "from keras.optimizers import Adam"
   ]
  },
  {
   "cell_type": "code",
   "execution_count": 2,
   "metadata": {},
   "outputs": [],
   "source": [
    "Classifier = Sequential()"
   ]
  },
  {
   "cell_type": "code",
   "execution_count": 3,
   "metadata": {},
   "outputs": [],
   "source": [
    "Classifier.add(Conv2D(32, (3, 3), input_shape = (64, 64, 3), activation='relu'))"
   ]
  },
  {
   "cell_type": "code",
   "execution_count": 4,
   "metadata": {},
   "outputs": [],
   "source": [
    "Classifier.add(MaxPooling2D(pool_size=(2, 2)))"
   ]
  },
  {
   "cell_type": "code",
   "execution_count": 5,
   "metadata": {},
   "outputs": [],
   "source": [
    "Classifier.add(Conv2D(32, (3, 3), activation='relu'))\n",
    "Classifier.add(MaxPooling2D(pool_size=(2, 2)))"
   ]
  },
  {
   "cell_type": "code",
   "execution_count": 6,
   "metadata": {},
   "outputs": [],
   "source": [
    "Classifier.add(Flatten())"
   ]
  },
  {
   "cell_type": "code",
   "execution_count": 7,
   "metadata": {},
   "outputs": [],
   "source": [
    "Classifier.add(Dense(units=128, activation='relu'))\n",
    "Classifier.add(Dense(units=1, activation='sigmoid'))"
   ]
  },
  {
   "cell_type": "code",
   "execution_count": 8,
   "metadata": {},
   "outputs": [],
   "source": [
    "Classifier.compile(optimizer='adam', loss='binary_crossentropy', metrics=['accuracy'])"
   ]
  },
  {
   "cell_type": "code",
   "execution_count": 9,
   "metadata": {},
   "outputs": [],
   "source": [
    "# Fitting the Images to the CNN\n",
    "\n",
    "from keras.preprocessing.image import ImageDataGenerator"
   ]
  },
  {
   "cell_type": "code",
   "execution_count": 10,
   "metadata": {},
   "outputs": [],
   "source": [
    "train_datagen = ImageDataGenerator(rescale=1./255, zoom_range=0.2, shear_range=0.2, horizontal_flip=True)\n",
    "test_datagen = ImageDataGenerator(rescale=1./255)"
   ]
  },
  {
   "cell_type": "code",
   "execution_count": 11,
   "metadata": {},
   "outputs": [
    {
     "name": "stdout",
     "output_type": "stream",
     "text": [
      "Found 8000 images belonging to 2 classes.\n",
      "Found 2000 images belonging to 2 classes.\n"
     ]
    }
   ],
   "source": [
    "train_set = train_datagen.flow_from_directory('dataset/training_set',\n",
    "                               target_size = (64, 64),\n",
    "                               batch_size = 32,\n",
    "                               class_mode = 'binary')\n",
    "\n",
    "test_set = test_datagen.flow_from_directory('dataset/test_set',\n",
    "                              target_size = (64, 64),\n",
    "                              batch_size = 32,\n",
    "                              class_mode = 'binary')"
   ]
  },
  {
   "cell_type": "code",
   "execution_count": 13,
   "metadata": {},
   "outputs": [
    {
     "name": "stdout",
     "output_type": "stream",
     "text": [
      "Epoch 1/25\n",
      "320/320 [==============================] - 76s 239ms/step - loss: 0.4690 - acc: 0.7758 - val_loss: 0.4700 - val_acc: 0.7866\n",
      "Epoch 2/25\n",
      "320/320 [==============================] - 75s 233ms/step - loss: 0.4631 - acc: 0.7794 - val_loss: 0.4728 - val_acc: 0.7893\n",
      "Epoch 3/25\n",
      "320/320 [==============================] - 75s 234ms/step - loss: 0.4329 - acc: 0.8002 - val_loss: 0.4412 - val_acc: 0.7905\n",
      "Epoch 4/25\n",
      "320/320 [==============================] - 75s 233ms/step - loss: 0.4221 - acc: 0.8025 - val_loss: 0.4948 - val_acc: 0.7785\n",
      "Epoch 5/25\n",
      "320/320 [==============================] - 75s 234ms/step - loss: 0.4011 - acc: 0.8163 - val_loss: 0.4565 - val_acc: 0.7964\n",
      "Epoch 6/25\n",
      "320/320 [==============================] - 74s 233ms/step - loss: 0.3946 - acc: 0.8222 - val_loss: 0.4732 - val_acc: 0.7980\n",
      "Epoch 7/25\n",
      "320/320 [==============================] - 77s 241ms/step - loss: 0.3764 - acc: 0.8277 - val_loss: 0.4440 - val_acc: 0.8109\n",
      "Epoch 8/25\n",
      "320/320 [==============================] - 80s 249ms/step - loss: 0.3533 - acc: 0.8395 - val_loss: 0.4596 - val_acc: 0.8078\n",
      "Epoch 9/25\n",
      "320/320 [==============================] - 79s 246ms/step - loss: 0.3400 - acc: 0.8492 - val_loss: 0.4344 - val_acc: 0.8035\n",
      "Epoch 10/25\n",
      "320/320 [==============================] - 78s 243ms/step - loss: 0.3234 - acc: 0.8613 - val_loss: 0.4676 - val_acc: 0.7976\n",
      "Epoch 11/25\n",
      "320/320 [==============================] - 78s 243ms/step - loss: 0.3088 - acc: 0.8649 - val_loss: 0.4671 - val_acc: 0.8141\n",
      "Epoch 12/25\n",
      "320/320 [==============================] - 80s 251ms/step - loss: 0.2859 - acc: 0.8788 - val_loss: 0.4574 - val_acc: 0.8097\n",
      "Epoch 13/25\n",
      "320/320 [==============================] - 80s 250ms/step - loss: 0.2718 - acc: 0.8873 - val_loss: 0.5227 - val_acc: 0.7921\n",
      "Epoch 14/25\n",
      "320/320 [==============================] - 75s 235ms/step - loss: 0.2676 - acc: 0.8866 - val_loss: 0.4995 - val_acc: 0.8011\n",
      "Epoch 15/25\n",
      "320/320 [==============================] - 75s 235ms/step - loss: 0.2444 - acc: 0.8998 - val_loss: 0.5177 - val_acc: 0.8058\n",
      "Epoch 16/25\n",
      "320/320 [==============================] - 76s 237ms/step - loss: 0.2233 - acc: 0.9077 - val_loss: 0.5222 - val_acc: 0.8058\n",
      "Epoch 17/25\n",
      "320/320 [==============================] - 75s 234ms/step - loss: 0.2121 - acc: 0.9123 - val_loss: 0.5170 - val_acc: 0.8109\n",
      "Epoch 18/25\n",
      "320/320 [==============================] - 74s 232ms/step - loss: 0.2040 - acc: 0.9169 - val_loss: 0.5610 - val_acc: 0.7972\n",
      "Epoch 19/25\n",
      "320/320 [==============================] - 81s 253ms/step - loss: 0.1848 - acc: 0.9215 - val_loss: 0.6403 - val_acc: 0.7939\n",
      "Epoch 20/25\n",
      "320/320 [==============================] - 79s 247ms/step - loss: 0.1787 - acc: 0.9294 - val_loss: 0.5665 - val_acc: 0.8239\n",
      "Epoch 21/25\n",
      "320/320 [==============================] - 78s 244ms/step - loss: 0.1725 - acc: 0.9319 - val_loss: 0.5853 - val_acc: 0.7928\n",
      "Epoch 22/25\n",
      "320/320 [==============================] - 76s 238ms/step - loss: 0.1491 - acc: 0.9418 - val_loss: 0.6681 - val_acc: 0.7936\n",
      "Epoch 23/25\n",
      "320/320 [==============================] - 79s 246ms/step - loss: 0.1471 - acc: 0.9444 - val_loss: 0.6248 - val_acc: 0.8034\n",
      "Epoch 24/25\n",
      "320/320 [==============================] - 78s 245ms/step - loss: 0.1393 - acc: 0.9469 - val_loss: 0.6244 - val_acc: 0.8031\n",
      "Epoch 25/25\n",
      "320/320 [==============================] - 77s 241ms/step - loss: 0.1352 - acc: 0.9471 - val_loss: 0.7153 - val_acc: 0.7976\n"
     ]
    },
    {
     "data": {
      "text/plain": [
       "<keras.callbacks.History at 0x7f7c24ae8d68>"
      ]
     },
     "execution_count": 13,
     "metadata": {},
     "output_type": "execute_result"
    }
   ],
   "source": [
    "Classifier.fit_generator(train_set,\n",
    "                        steps_per_epoch = 320,\n",
    "                        epochs = 25,\n",
    "                        validation_data = test_set,\n",
    "                        validation_steps = 80)"
   ]
  },
  {
   "cell_type": "code",
   "execution_count": 14,
   "metadata": {},
   "outputs": [],
   "source": [
    "import keras\n",
    "vgg16 = keras.applications.vgg16.VGG16()"
   ]
  },
  {
   "cell_type": "code",
   "execution_count": 15,
   "metadata": {},
   "outputs": [
    {
     "name": "stdout",
     "output_type": "stream",
     "text": [
      "_________________________________________________________________\n",
      "Layer (type)                 Output Shape              Param #   \n",
      "=================================================================\n",
      "input_1 (InputLayer)         (None, 224, 224, 3)       0         \n",
      "_________________________________________________________________\n",
      "block1_conv1 (Conv2D)        (None, 224, 224, 64)      1792      \n",
      "_________________________________________________________________\n",
      "block1_conv2 (Conv2D)        (None, 224, 224, 64)      36928     \n",
      "_________________________________________________________________\n",
      "block1_pool (MaxPooling2D)   (None, 112, 112, 64)      0         \n",
      "_________________________________________________________________\n",
      "block2_conv1 (Conv2D)        (None, 112, 112, 128)     73856     \n",
      "_________________________________________________________________\n",
      "block2_conv2 (Conv2D)        (None, 112, 112, 128)     147584    \n",
      "_________________________________________________________________\n",
      "block2_pool (MaxPooling2D)   (None, 56, 56, 128)       0         \n",
      "_________________________________________________________________\n",
      "block3_conv1 (Conv2D)        (None, 56, 56, 256)       295168    \n",
      "_________________________________________________________________\n",
      "block3_conv2 (Conv2D)        (None, 56, 56, 256)       590080    \n",
      "_________________________________________________________________\n",
      "block3_conv3 (Conv2D)        (None, 56, 56, 256)       590080    \n",
      "_________________________________________________________________\n",
      "block3_pool (MaxPooling2D)   (None, 28, 28, 256)       0         \n",
      "_________________________________________________________________\n",
      "block4_conv1 (Conv2D)        (None, 28, 28, 512)       1180160   \n",
      "_________________________________________________________________\n",
      "block4_conv2 (Conv2D)        (None, 28, 28, 512)       2359808   \n",
      "_________________________________________________________________\n",
      "block4_conv3 (Conv2D)        (None, 28, 28, 512)       2359808   \n",
      "_________________________________________________________________\n",
      "block4_pool (MaxPooling2D)   (None, 14, 14, 512)       0         \n",
      "_________________________________________________________________\n",
      "block5_conv1 (Conv2D)        (None, 14, 14, 512)       2359808   \n",
      "_________________________________________________________________\n",
      "block5_conv2 (Conv2D)        (None, 14, 14, 512)       2359808   \n",
      "_________________________________________________________________\n",
      "block5_conv3 (Conv2D)        (None, 14, 14, 512)       2359808   \n",
      "_________________________________________________________________\n",
      "block5_pool (MaxPooling2D)   (None, 7, 7, 512)         0         \n",
      "_________________________________________________________________\n",
      "flatten (Flatten)            (None, 25088)             0         \n",
      "_________________________________________________________________\n",
      "fc1 (Dense)                  (None, 4096)              102764544 \n",
      "_________________________________________________________________\n",
      "fc2 (Dense)                  (None, 4096)              16781312  \n",
      "_________________________________________________________________\n",
      "predictions (Dense)          (None, 1000)              4097000   \n",
      "=================================================================\n",
      "Total params: 138,357,544\n",
      "Trainable params: 138,357,544\n",
      "Non-trainable params: 0\n",
      "_________________________________________________________________\n"
     ]
    }
   ],
   "source": [
    "vgg16.summary()"
   ]
  },
  {
   "cell_type": "code",
   "execution_count": 16,
   "metadata": {},
   "outputs": [],
   "source": [
    "model2 = Sequential()"
   ]
  },
  {
   "cell_type": "code",
   "execution_count": 17,
   "metadata": {},
   "outputs": [],
   "source": [
    "for layer in vgg16.layers[:-1]:\n",
    "    model2.add(layer)"
   ]
  },
  {
   "cell_type": "code",
   "execution_count": 18,
   "metadata": {},
   "outputs": [],
   "source": [
    "for layer in model2.layers:\n",
    "    layer.trainable = False"
   ]
  },
  {
   "cell_type": "code",
   "execution_count": 32,
   "metadata": {},
   "outputs": [],
   "source": [
    "model2.add(Dense(2, activation='sigmoid'))"
   ]
  },
  {
   "cell_type": "code",
   "execution_count": 39,
   "metadata": {},
   "outputs": [],
   "source": [
    "model2.compile(optimizer='adam', loss='categorical_crossentropy', metrics = ['accuracy'])"
   ]
  },
  {
   "cell_type": "code",
   "execution_count": 42,
   "metadata": {},
   "outputs": [
    {
     "name": "stdout",
     "output_type": "stream",
     "text": [
      "Found 0 images belonging to 2 classes.\n",
      "Found 0 images belonging to 2 classes.\n"
     ]
    }
   ],
   "source": [
    "train_set = train_datagen.flow_from_directory('dataset/training_set',\n",
    "                               target_size = (224, 224),\n",
    "                               batch_size = 32,\n",
    "                               classes=['dog', 'cat'])\n",
    "\n",
    "test_set = test_datagen.flow_from_directory('dataset/test_set',\n",
    "                              target_size = (224, 224),\n",
    "                              batch_size = 32,\n",
    "                              classes=['dog', 'cat'])"
   ]
  },
  {
   "cell_type": "code",
   "execution_count": null,
   "metadata": {},
   "outputs": [
    {
     "name": "stdout",
     "output_type": "stream",
     "text": [
      "Epoch 1/20\n"
     ]
    }
   ],
   "source": [
    "model2.fit_generator(train_set, \n",
    "                     steps_per_epoch=250, \n",
    "                     validation_data=test_set, \n",
    "                     validation_steps=64, \n",
    "                     epochs=20)"
   ]
  },
  {
   "cell_type": "code",
   "execution_count": null,
   "metadata": {},
   "outputs": [],
   "source": []
  }
 ],
 "metadata": {
  "kernelspec": {
   "display_name": "Python 3",
   "language": "python",
   "name": "python3"
  },
  "language_info": {
   "codemirror_mode": {
    "name": "ipython",
    "version": 3
   },
   "file_extension": ".py",
   "mimetype": "text/x-python",
   "name": "python",
   "nbconvert_exporter": "python",
   "pygments_lexer": "ipython3",
   "version": "3.6.6"
  }
 },
 "nbformat": 4,
 "nbformat_minor": 2
}
