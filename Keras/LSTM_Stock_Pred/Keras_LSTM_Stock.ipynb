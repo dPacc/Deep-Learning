{
 "cells": [
  {
   "cell_type": "markdown",
   "metadata": {},
   "source": [
    "# Financial Market Time-Series Prediction"
   ]
  },
  {
   "cell_type": "markdown",
   "metadata": {},
   "source": [
    "## LSTM\n",
    "\n",
    "### The dataset contains information about Google's stock price from the year 2012 to 2016, it has the opening stock price along with the days highs and lows and the amount of volume. We are going to use only the Opening prices for prediction"
   ]
  },
  {
   "cell_type": "code",
   "execution_count": 1,
   "metadata": {
    "collapsed": true
   },
   "outputs": [],
   "source": [
    "# Importing the libraries\n",
    "\n",
    "import numpy as np\n",
    "import pandas as pd\n",
    "import matplotlib.pyplot as plt\n",
    "%matplotlib inline"
   ]
  },
  {
   "cell_type": "code",
   "execution_count": 2,
   "metadata": {
    "collapsed": true
   },
   "outputs": [],
   "source": [
    "# Importing the training set\n",
    "\n",
    "Training_Set = pd.read_csv(\"Google_Stock_Price_Train.csv\")"
   ]
  },
  {
   "cell_type": "code",
   "execution_count": 3,
   "metadata": {},
   "outputs": [
    {
     "data": {
      "text/html": [
       "<div>\n",
       "<style>\n",
       "    .dataframe thead tr:only-child th {\n",
       "        text-align: right;\n",
       "    }\n",
       "\n",
       "    .dataframe thead th {\n",
       "        text-align: left;\n",
       "    }\n",
       "\n",
       "    .dataframe tbody tr th {\n",
       "        vertical-align: top;\n",
       "    }\n",
       "</style>\n",
       "<table border=\"1\" class=\"dataframe\">\n",
       "  <thead>\n",
       "    <tr style=\"text-align: right;\">\n",
       "      <th></th>\n",
       "      <th>Date</th>\n",
       "      <th>Open</th>\n",
       "      <th>High</th>\n",
       "      <th>Low</th>\n",
       "      <th>Close</th>\n",
       "      <th>Volume</th>\n",
       "    </tr>\n",
       "  </thead>\n",
       "  <tbody>\n",
       "    <tr>\n",
       "      <th>0</th>\n",
       "      <td>1/3/2012</td>\n",
       "      <td>325.25</td>\n",
       "      <td>332.83</td>\n",
       "      <td>324.97</td>\n",
       "      <td>663.59</td>\n",
       "      <td>7,380,500</td>\n",
       "    </tr>\n",
       "    <tr>\n",
       "      <th>1</th>\n",
       "      <td>1/4/2012</td>\n",
       "      <td>331.27</td>\n",
       "      <td>333.87</td>\n",
       "      <td>329.08</td>\n",
       "      <td>666.45</td>\n",
       "      <td>5,749,400</td>\n",
       "    </tr>\n",
       "    <tr>\n",
       "      <th>2</th>\n",
       "      <td>1/5/2012</td>\n",
       "      <td>329.83</td>\n",
       "      <td>330.75</td>\n",
       "      <td>326.89</td>\n",
       "      <td>657.21</td>\n",
       "      <td>6,590,300</td>\n",
       "    </tr>\n",
       "    <tr>\n",
       "      <th>3</th>\n",
       "      <td>1/6/2012</td>\n",
       "      <td>328.34</td>\n",
       "      <td>328.77</td>\n",
       "      <td>323.68</td>\n",
       "      <td>648.24</td>\n",
       "      <td>5,405,900</td>\n",
       "    </tr>\n",
       "    <tr>\n",
       "      <th>4</th>\n",
       "      <td>1/9/2012</td>\n",
       "      <td>322.04</td>\n",
       "      <td>322.29</td>\n",
       "      <td>309.46</td>\n",
       "      <td>620.76</td>\n",
       "      <td>11,688,800</td>\n",
       "    </tr>\n",
       "  </tbody>\n",
       "</table>\n",
       "</div>"
      ],
      "text/plain": [
       "       Date    Open    High     Low   Close      Volume\n",
       "0  1/3/2012  325.25  332.83  324.97  663.59   7,380,500\n",
       "1  1/4/2012  331.27  333.87  329.08  666.45   5,749,400\n",
       "2  1/5/2012  329.83  330.75  326.89  657.21   6,590,300\n",
       "3  1/6/2012  328.34  328.77  323.68  648.24   5,405,900\n",
       "4  1/9/2012  322.04  322.29  309.46  620.76  11,688,800"
      ]
     },
     "execution_count": 3,
     "metadata": {},
     "output_type": "execute_result"
    }
   ],
   "source": [
    "Training_Set.head()"
   ]
  },
  {
   "cell_type": "code",
   "execution_count": 4,
   "metadata": {
    "collapsed": true
   },
   "outputs": [],
   "source": [
    "Training_Set = Training_Set.iloc[:, 1:2].values"
   ]
  },
  {
   "cell_type": "code",
   "execution_count": 5,
   "metadata": {
    "collapsed": true
   },
   "outputs": [],
   "source": [
    "# Feature Scaling\n",
    "\n",
    "from sklearn.preprocessing import MinMaxScaler\n",
    "Scaler = MinMaxScaler()\n",
    "Training_Set = Scaler.fit_transform(Training_Set)"
   ]
  },
  {
   "cell_type": "code",
   "execution_count": 6,
   "metadata": {
    "collapsed": true
   },
   "outputs": [],
   "source": [
    "# Getting the inputs and outputs\n",
    "# If the input is the stock price at time 't', then the output is the stock price at time (t+1)\n",
    "\n",
    "X_train = Training_Set[0:1257]\n",
    "y_train = Training_Set[1:1258]"
   ]
  },
  {
   "cell_type": "markdown",
   "metadata": {},
   "source": [
    "### Reshaping the inputs - Changing the format of X_train from a 2D array to 3D array with the 3rd dimension corresponding to the time-step"
   ]
  },
  {
   "cell_type": "code",
   "execution_count": 7,
   "metadata": {
    "collapsed": true
   },
   "outputs": [],
   "source": [
    "X_train = np.reshape(X_train, (1257, 1, 1))"
   ]
  },
  {
   "cell_type": "markdown",
   "metadata": {},
   "source": [
    "# Building the LSTM"
   ]
  },
  {
   "cell_type": "code",
   "execution_count": 9,
   "metadata": {
    "collapsed": true
   },
   "outputs": [],
   "source": [
    "import keras"
   ]
  },
  {
   "cell_type": "code",
   "execution_count": 10,
   "metadata": {
    "collapsed": true
   },
   "outputs": [],
   "source": [
    "from keras.models import Sequential\n",
    "from keras.layers import Dense\n",
    "from keras.layers import LSTM"
   ]
  },
  {
   "cell_type": "code",
   "execution_count": 11,
   "metadata": {
    "collapsed": true
   },
   "outputs": [],
   "source": [
    "# Initializing the LSTM\n",
    "\n",
    "Regressor = Sequential()"
   ]
  },
  {
   "cell_type": "code",
   "execution_count": 12,
   "metadata": {
    "collapsed": true
   },
   "outputs": [],
   "source": [
    "# Adding the input and LSTM layer\n",
    "\n",
    "Regressor.add(LSTM(units = 4, activation = 'tanh', input_shape = (None, 1)))"
   ]
  },
  {
   "cell_type": "code",
   "execution_count": 13,
   "metadata": {
    "collapsed": true
   },
   "outputs": [],
   "source": [
    "# Adding the output layer\n",
    "\n",
    "Regressor.add(Dense(units = 1))"
   ]
  },
  {
   "cell_type": "code",
   "execution_count": 14,
   "metadata": {
    "collapsed": true
   },
   "outputs": [],
   "source": [
    "# Compiling the LSTM - choosing the optimizer and error function\n",
    "\n",
    "Regressor.compile(optimizer = 'adam', loss = 'mean_squared_error')"
   ]
  },
  {
   "cell_type": "markdown",
   "metadata": {},
   "source": [
    "# Fitting the LSTM to the train set"
   ]
  },
  {
   "cell_type": "code",
   "execution_count": 15,
   "metadata": {},
   "outputs": [
    {
     "name": "stdout",
     "output_type": "stream",
     "text": [
      "Epoch 1/200\n",
      "1257/1257 [==============================] - 2s 1ms/step - loss: 0.2195\n",
      "Epoch 2/200\n",
      "1257/1257 [==============================] - 0s 94us/step - loss: 0.1521\n",
      "Epoch 3/200\n",
      "1257/1257 [==============================] - 0s 91us/step - loss: 0.1036\n",
      "Epoch 4/200\n",
      "1257/1257 [==============================] - 0s 98us/step - loss: 0.0712\n",
      "Epoch 5/200\n",
      "1257/1257 [==============================] - 0s 105us/step - loss: 0.0513\n",
      "Epoch 6/200\n",
      "1257/1257 [==============================] - 0s 97us/step - loss: 0.0397\n",
      "Epoch 7/200\n",
      "1257/1257 [==============================] - 0s 92us/step - loss: 0.0333\n",
      "Epoch 8/200\n",
      "1257/1257 [==============================] - 0s 95us/step - loss: 0.0295\n",
      "Epoch 9/200\n",
      "1257/1257 [==============================] - 0s 101us/step - loss: 0.0268\n",
      "Epoch 10/200\n",
      "1257/1257 [==============================] - 0s 91us/step - loss: 0.0246\n",
      "Epoch 11/200\n",
      "1257/1257 [==============================] - 0s 102us/step - loss: 0.0224\n",
      "Epoch 12/200\n",
      "1257/1257 [==============================] - 0s 92us/step - loss: 0.0203\n",
      "Epoch 13/200\n",
      "1257/1257 [==============================] - 0s 103us/step - loss: 0.0182\n",
      "Epoch 14/200\n",
      "1257/1257 [==============================] - 0s 107us/step - loss: 0.0161\n",
      "Epoch 15/200\n",
      "1257/1257 [==============================] - 0s 102us/step - loss: 0.0142\n",
      "Epoch 16/200\n",
      "1257/1257 [==============================] - 0s 94us/step - loss: 0.0123\n",
      "Epoch 17/200\n",
      "1257/1257 [==============================] - 0s 97us/step - loss: 0.0105\n",
      "Epoch 18/200\n",
      "1257/1257 [==============================] - 0s 95us/step - loss: 0.0089\n",
      "Epoch 19/200\n",
      "1257/1257 [==============================] - 0s 108us/step - loss: 0.0074\n",
      "Epoch 20/200\n",
      "1257/1257 [==============================] - 0s 100us/step - loss: 0.0061\n",
      "Epoch 21/200\n",
      "1257/1257 [==============================] - 0s 106us/step - loss: 0.0049\n",
      "Epoch 22/200\n",
      "1257/1257 [==============================] - 0s 114us/step - loss: 0.0039\n",
      "Epoch 23/200\n",
      "1257/1257 [==============================] - 0s 101us/step - loss: 0.0031\n",
      "Epoch 24/200\n",
      "1257/1257 [==============================] - 0s 106us/step - loss: 0.0024\n",
      "Epoch 25/200\n",
      "1257/1257 [==============================] - 0s 101us/step - loss: 0.0019\n",
      "Epoch 26/200\n",
      "1257/1257 [==============================] - 0s 103us/step - loss: 0.0014\n",
      "Epoch 27/200\n",
      "1257/1257 [==============================] - 0s 103us/step - loss: 0.0011\n",
      "Epoch 28/200\n",
      "1257/1257 [==============================] - 0s 107us/step - loss: 8.9279e-04\n",
      "Epoch 29/200\n",
      "1257/1257 [==============================] - 0s 97us/step - loss: 7.2180e-04\n",
      "Epoch 30/200\n",
      "1257/1257 [==============================] - 0s 117us/step - loss: 6.0056e-04\n",
      "Epoch 31/200\n",
      "1257/1257 [==============================] - 0s 123us/step - loss: 5.1891e-04\n",
      "Epoch 32/200\n",
      "1257/1257 [==============================] - 0s 117us/step - loss: 4.6041e-04\n",
      "Epoch 33/200\n",
      "1257/1257 [==============================] - 0s 124us/step - loss: 4.2351e-04\n",
      "Epoch 34/200\n",
      "1257/1257 [==============================] - 0s 118us/step - loss: 3.9851e-04\n",
      "Epoch 35/200\n",
      "1257/1257 [==============================] - 0s 110us/step - loss: 3.8254e-04\n",
      "Epoch 36/200\n",
      "1257/1257 [==============================] - 0s 119us/step - loss: 3.7182e-04\n",
      "Epoch 37/200\n",
      "1257/1257 [==============================] - 0s 110us/step - loss: 3.6389e-04\n",
      "Epoch 38/200\n",
      "1257/1257 [==============================] - 0s 114us/step - loss: 3.5857e-04\n",
      "Epoch 39/200\n",
      "1257/1257 [==============================] - 0s 111us/step - loss: 3.5535e-04\n",
      "Epoch 40/200\n",
      "1257/1257 [==============================] - 0s 116us/step - loss: 3.5220e-04\n",
      "Epoch 41/200\n",
      "1257/1257 [==============================] - 0s 117us/step - loss: 3.4995e-04\n",
      "Epoch 42/200\n",
      "1257/1257 [==============================] - 0s 111us/step - loss: 3.4779e-04\n",
      "Epoch 43/200\n",
      "1257/1257 [==============================] - 0s 112us/step - loss: 3.4584e-04\n",
      "Epoch 44/200\n",
      "1257/1257 [==============================] - 0s 116us/step - loss: 3.4383e-04 0s - loss: 3.4637e-\n",
      "Epoch 45/200\n",
      "1257/1257 [==============================] - 0s 111us/step - loss: 3.4204e-04\n",
      "Epoch 46/200\n",
      "1257/1257 [==============================] - 0s 108us/step - loss: 3.3979e-04\n",
      "Epoch 47/200\n",
      "1257/1257 [==============================] - 0s 106us/step - loss: 3.3831e-04 0s - loss: 2.9815e-\n",
      "Epoch 48/200\n",
      "1257/1257 [==============================] - 0s 103us/step - loss: 3.3645e-04\n",
      "Epoch 49/200\n",
      "1257/1257 [==============================] - 0s 122us/step - loss: 3.3461e-04\n",
      "Epoch 50/200\n",
      "1257/1257 [==============================] - 0s 103us/step - loss: 3.3273e-04\n",
      "Epoch 51/200\n",
      "1257/1257 [==============================] - 0s 115us/step - loss: 3.3067e-04\n",
      "Epoch 52/200\n",
      "1257/1257 [==============================] - 0s 112us/step - loss: 3.2919e-04\n",
      "Epoch 53/200\n",
      "1257/1257 [==============================] - 0s 114us/step - loss: 3.2707e-04\n",
      "Epoch 54/200\n",
      "1257/1257 [==============================] - 0s 115us/step - loss: 3.2562e-04\n",
      "Epoch 55/200\n",
      "1257/1257 [==============================] - 0s 97us/step - loss: 3.2364e-04\n",
      "Epoch 56/200\n",
      "1257/1257 [==============================] - 0s 103us/step - loss: 3.2204e-04\n",
      "Epoch 57/200\n",
      "1257/1257 [==============================] - 0s 106us/step - loss: 3.2039e-04\n",
      "Epoch 58/200\n",
      "1257/1257 [==============================] - 0s 106us/step - loss: 3.1827e-04\n",
      "Epoch 59/200\n",
      "1257/1257 [==============================] - 0s 105us/step - loss: 3.1684e-04\n",
      "Epoch 60/200\n",
      "1257/1257 [==============================] - 0s 107us/step - loss: 3.1500e-04\n",
      "Epoch 61/200\n",
      "1257/1257 [==============================] - 0s 107us/step - loss: 3.1313e-04\n",
      "Epoch 62/200\n",
      "1257/1257 [==============================] - 0s 99us/step - loss: 3.1169e-04\n",
      "Epoch 63/200\n",
      "1257/1257 [==============================] - 0s 110us/step - loss: 3.1052e-04\n",
      "Epoch 64/200\n",
      "1257/1257 [==============================] - 0s 103us/step - loss: 3.0822e-04\n",
      "Epoch 65/200\n",
      "1257/1257 [==============================] - 0s 105us/step - loss: 3.0679e-04\n",
      "Epoch 66/200\n",
      "1257/1257 [==============================] - 0s 119us/step - loss: 3.0510e-04\n",
      "Epoch 67/200\n",
      "1257/1257 [==============================] - 0s 106us/step - loss: 3.0414e-04\n",
      "Epoch 68/200\n",
      "1257/1257 [==============================] - 0s 111us/step - loss: 3.0209e-04\n",
      "Epoch 69/200\n",
      "1257/1257 [==============================] - 0s 109us/step - loss: 3.0073e-04 0s - loss: 2.8515e-\n",
      "Epoch 70/200\n",
      "1257/1257 [==============================] - 0s 117us/step - loss: 2.9924e-04\n",
      "Epoch 71/200\n",
      "1257/1257 [==============================] - 0s 101us/step - loss: 2.9807e-04\n",
      "Epoch 72/200\n",
      "1257/1257 [==============================] - 0s 106us/step - loss: 2.9748e-04\n",
      "Epoch 73/200\n",
      "1257/1257 [==============================] - 0s 108us/step - loss: 2.9557e-04\n",
      "Epoch 74/200\n",
      "1257/1257 [==============================] - 0s 119us/step - loss: 2.9398e-04\n",
      "Epoch 75/200\n",
      "1257/1257 [==============================] - 0s 114us/step - loss: 2.9241e-04\n",
      "Epoch 76/200\n",
      "1257/1257 [==============================] - 0s 107us/step - loss: 2.9276e-04\n",
      "Epoch 77/200\n",
      "1257/1257 [==============================] - 0s 112us/step - loss: 2.9076e-04\n",
      "Epoch 78/200\n",
      "1257/1257 [==============================] - 0s 109us/step - loss: 2.8924e-04 0s - loss: 3.1385e-\n",
      "Epoch 79/200\n",
      "1257/1257 [==============================] - 0s 114us/step - loss: 2.8792e-04\n",
      "Epoch 80/200\n",
      "1257/1257 [==============================] - 0s 107us/step - loss: 2.8753e-04\n",
      "Epoch 81/200\n",
      "1257/1257 [==============================] - 0s 105us/step - loss: 2.8598e-04\n",
      "Epoch 82/200\n",
      "1257/1257 [==============================] - 0s 106us/step - loss: 2.8615e-04\n",
      "Epoch 83/200\n",
      "1257/1257 [==============================] - 0s 118us/step - loss: 2.8416e-04\n",
      "Epoch 84/200\n",
      "1257/1257 [==============================] - 0s 115us/step - loss: 2.8291e-04\n",
      "Epoch 85/200\n",
      "1257/1257 [==============================] - 0s 107us/step - loss: 2.8255e-04\n",
      "Epoch 86/200\n",
      "1257/1257 [==============================] - 0s 100us/step - loss: 2.8142e-04\n",
      "Epoch 87/200\n",
      "1257/1257 [==============================] - 0s 102us/step - loss: 2.8005e-04\n",
      "Epoch 88/200\n",
      "1257/1257 [==============================] - 0s 95us/step - loss: 2.7907e-04\n",
      "Epoch 89/200\n",
      "1257/1257 [==============================] - 0s 103us/step - loss: 2.7801e-04\n",
      "Epoch 90/200\n",
      "1257/1257 [==============================] - 0s 94us/step - loss: 2.7796e-04\n",
      "Epoch 91/200\n"
     ]
    },
    {
     "name": "stdout",
     "output_type": "stream",
     "text": [
      "1257/1257 [==============================] - 0s 95us/step - loss: 2.7689e-04\n",
      "Epoch 92/200\n",
      "1257/1257 [==============================] - 0s 96us/step - loss: 2.7681e-04\n",
      "Epoch 93/200\n",
      "1257/1257 [==============================] - 0s 93us/step - loss: 2.7792e-04\n",
      "Epoch 94/200\n",
      "1257/1257 [==============================] - 0s 95us/step - loss: 2.7689e-04\n",
      "Epoch 95/200\n",
      "1257/1257 [==============================] - 0s 119us/step - loss: 2.7476e-04\n",
      "Epoch 96/200\n",
      "1257/1257 [==============================] - 0s 108us/step - loss: 2.7316e-04\n",
      "Epoch 97/200\n",
      "1257/1257 [==============================] - 0s 113us/step - loss: 2.7462e-04\n",
      "Epoch 98/200\n",
      "1257/1257 [==============================] - 0s 124us/step - loss: 2.7293e-04\n",
      "Epoch 99/200\n",
      "1257/1257 [==============================] - 0s 97us/step - loss: 2.7252e-04\n",
      "Epoch 100/200\n",
      "1257/1257 [==============================] - 0s 89us/step - loss: 2.7203e-04\n",
      "Epoch 101/200\n",
      "1257/1257 [==============================] - 0s 101us/step - loss: 2.7167e-04\n",
      "Epoch 102/200\n",
      "1257/1257 [==============================] - 0s 103us/step - loss: 2.7354e-04\n",
      "Epoch 103/200\n",
      "1257/1257 [==============================] - 0s 107us/step - loss: 2.7206e-04\n",
      "Epoch 104/200\n",
      "1257/1257 [==============================] - 0s 96us/step - loss: 2.7157e-04\n",
      "Epoch 105/200\n",
      "1257/1257 [==============================] - 0s 105us/step - loss: 2.7123e-04\n",
      "Epoch 106/200\n",
      "1257/1257 [==============================] - 0s 96us/step - loss: 2.7020e-04\n",
      "Epoch 107/200\n",
      "1257/1257 [==============================] - 0s 97us/step - loss: 2.7277e-04\n",
      "Epoch 108/200\n",
      "1257/1257 [==============================] - 0s 105us/step - loss: 2.7136e-04\n",
      "Epoch 109/200\n",
      "1257/1257 [==============================] - 0s 141us/step - loss: 2.6984e-04\n",
      "Epoch 110/200\n",
      "1257/1257 [==============================] - 0s 143us/step - loss: 2.7238e-04\n",
      "Epoch 111/200\n",
      "1257/1257 [==============================] - 0s 151us/step - loss: 2.6946e-04\n",
      "Epoch 112/200\n",
      "1257/1257 [==============================] - 0s 110us/step - loss: 2.7082e-04\n",
      "Epoch 113/200\n",
      "1257/1257 [==============================] - 0s 116us/step - loss: 2.6935e-04\n",
      "Epoch 114/200\n",
      "1257/1257 [==============================] - 0s 104us/step - loss: 2.6869e-04\n",
      "Epoch 115/200\n",
      "1257/1257 [==============================] - 0s 110us/step - loss: 2.6803e-04\n",
      "Epoch 116/200\n",
      "1257/1257 [==============================] - 0s 114us/step - loss: 2.6770e-04\n",
      "Epoch 117/200\n",
      "1257/1257 [==============================] - 0s 109us/step - loss: 2.6760e-04\n",
      "Epoch 118/200\n",
      "1257/1257 [==============================] - 0s 113us/step - loss: 2.7034e-04\n",
      "Epoch 119/200\n",
      "1257/1257 [==============================] - 0s 107us/step - loss: 2.7074e-04\n",
      "Epoch 120/200\n",
      "1257/1257 [==============================] - 0s 108us/step - loss: 2.6720e-04\n",
      "Epoch 121/200\n",
      "1257/1257 [==============================] - 0s 114us/step - loss: 2.6742e-04\n",
      "Epoch 122/200\n",
      "1257/1257 [==============================] - 0s 113us/step - loss: 2.6843e-04\n",
      "Epoch 123/200\n",
      "1257/1257 [==============================] - 0s 106us/step - loss: 2.7083e-04\n",
      "Epoch 124/200\n",
      "1257/1257 [==============================] - 0s 105us/step - loss: 2.6627e-04\n",
      "Epoch 125/200\n",
      "1257/1257 [==============================] - 0s 115us/step - loss: 2.6696e-04\n",
      "Epoch 126/200\n",
      "1257/1257 [==============================] - 0s 113us/step - loss: 2.6861e-04\n",
      "Epoch 127/200\n",
      "1257/1257 [==============================] - 0s 103us/step - loss: 2.6719e-04\n",
      "Epoch 128/200\n",
      "1257/1257 [==============================] - 0s 91us/step - loss: 2.6896e-04\n",
      "Epoch 129/200\n",
      "1257/1257 [==============================] - 0s 96us/step - loss: 2.6711e-04\n",
      "Epoch 130/200\n",
      "1257/1257 [==============================] - 0s 90us/step - loss: 2.6804e-04\n",
      "Epoch 131/200\n",
      "1257/1257 [==============================] - 0s 91us/step - loss: 2.6891e-04\n",
      "Epoch 132/200\n",
      "1257/1257 [==============================] - 0s 95us/step - loss: 2.7184e-04\n",
      "Epoch 133/200\n",
      "1257/1257 [==============================] - 0s 95us/step - loss: 2.7453e-04\n",
      "Epoch 134/200\n",
      "1257/1257 [==============================] - 0s 106us/step - loss: 2.6703e-04\n",
      "Epoch 135/200\n",
      "1257/1257 [==============================] - 0s 105us/step - loss: 2.6699e-04\n",
      "Epoch 136/200\n",
      "1257/1257 [==============================] - 0s 100us/step - loss: 2.6672e-04\n",
      "Epoch 137/200\n",
      "1257/1257 [==============================] - 0s 102us/step - loss: 2.6848e-04\n",
      "Epoch 138/200\n",
      "1257/1257 [==============================] - 0s 108us/step - loss: 2.6695e-04\n",
      "Epoch 139/200\n",
      "1257/1257 [==============================] - 0s 96us/step - loss: 2.6687e-04\n",
      "Epoch 140/200\n",
      "1257/1257 [==============================] - 0s 103us/step - loss: 2.6881e-04\n",
      "Epoch 141/200\n",
      "1257/1257 [==============================] - 0s 114us/step - loss: 2.6625e-04\n",
      "Epoch 142/200\n",
      "1257/1257 [==============================] - 0s 125us/step - loss: 2.6772e-04\n",
      "Epoch 143/200\n",
      "1257/1257 [==============================] - 0s 130us/step - loss: 2.6803e-04\n",
      "Epoch 144/200\n",
      "1257/1257 [==============================] - 0s 107us/step - loss: 2.7046e-04\n",
      "Epoch 145/200\n",
      "1257/1257 [==============================] - 0s 102us/step - loss: 2.6715e-04\n",
      "Epoch 146/200\n",
      "1257/1257 [==============================] - 0s 102us/step - loss: 2.7256e-04\n",
      "Epoch 147/200\n",
      "1257/1257 [==============================] - 0s 107us/step - loss: 2.7456e-04\n",
      "Epoch 148/200\n",
      "1257/1257 [==============================] - 0s 109us/step - loss: 2.6887e-04\n",
      "Epoch 149/200\n",
      "1257/1257 [==============================] - 0s 109us/step - loss: 2.6659e-04\n",
      "Epoch 150/200\n",
      "1257/1257 [==============================] - 0s 107us/step - loss: 2.6980e-04\n",
      "Epoch 151/200\n",
      "1257/1257 [==============================] - 0s 110us/step - loss: 2.6641e-04\n",
      "Epoch 152/200\n",
      "1257/1257 [==============================] - 0s 116us/step - loss: 2.6812e-04\n",
      "Epoch 153/200\n",
      "1257/1257 [==============================] - 0s 111us/step - loss: 2.6716e-04\n",
      "Epoch 154/200\n",
      "1257/1257 [==============================] - 0s 102us/step - loss: 2.6661e-04\n",
      "Epoch 155/200\n",
      "1257/1257 [==============================] - 0s 110us/step - loss: 2.6847e-04\n",
      "Epoch 156/200\n",
      "1257/1257 [==============================] - 0s 113us/step - loss: 2.6850e-04\n",
      "Epoch 157/200\n",
      "1257/1257 [==============================] - 0s 99us/step - loss: 2.6926e-04: 0s - loss: 2.6249e-\n",
      "Epoch 158/200\n",
      "1257/1257 [==============================] - 0s 112us/step - loss: 2.6723e-04\n",
      "Epoch 159/200\n",
      "1257/1257 [==============================] - 0s 103us/step - loss: 2.6700e-04\n",
      "Epoch 160/200\n",
      "1257/1257 [==============================] - 0s 105us/step - loss: 2.7054e-04\n",
      "Epoch 161/200\n",
      "1257/1257 [==============================] - 0s 103us/step - loss: 2.6819e-04\n",
      "Epoch 162/200\n",
      "1257/1257 [==============================] - 0s 104us/step - loss: 2.6648e-04\n",
      "Epoch 163/200\n",
      "1257/1257 [==============================] - 0s 111us/step - loss: 2.6591e-04\n",
      "Epoch 164/200\n",
      "1257/1257 [==============================] - 0s 104us/step - loss: 2.6660e-04\n",
      "Epoch 165/200\n",
      "1257/1257 [==============================] - 0s 103us/step - loss: 2.6621e-04\n",
      "Epoch 166/200\n",
      "1257/1257 [==============================] - 0s 106us/step - loss: 2.6681e-04\n",
      "Epoch 167/200\n",
      "1257/1257 [==============================] - 0s 114us/step - loss: 2.6804e-04\n",
      "Epoch 168/200\n",
      "1257/1257 [==============================] - 0s 113us/step - loss: 2.6576e-04\n",
      "Epoch 169/200\n",
      "1257/1257 [==============================] - 0s 110us/step - loss: 2.6689e-04\n",
      "Epoch 170/200\n",
      "1257/1257 [==============================] - 0s 105us/step - loss: 2.6614e-04\n",
      "Epoch 171/200\n",
      "1257/1257 [==============================] - 0s 110us/step - loss: 2.6700e-04\n",
      "Epoch 172/200\n",
      "1257/1257 [==============================] - 0s 113us/step - loss: 2.7201e-04\n",
      "Epoch 173/200\n",
      "1257/1257 [==============================] - 0s 100us/step - loss: 2.6575e-04\n",
      "Epoch 174/200\n",
      "1257/1257 [==============================] - 0s 91us/step - loss: 2.6806e-04\n",
      "Epoch 175/200\n",
      "1257/1257 [==============================] - 0s 95us/step - loss: 2.6917e-04\n",
      "Epoch 176/200\n",
      "1257/1257 [==============================] - 0s 91us/step - loss: 2.6649e-04\n",
      "Epoch 177/200\n",
      "1257/1257 [==============================] - 0s 97us/step - loss: 2.6673e-04\n",
      "Epoch 178/200\n",
      "1257/1257 [==============================] - 0s 99us/step - loss: 2.6664e-04\n",
      "Epoch 179/200\n",
      "1257/1257 [==============================] - 0s 106us/step - loss: 2.6766e-04\n",
      "Epoch 180/200\n"
     ]
    },
    {
     "name": "stdout",
     "output_type": "stream",
     "text": [
      "1257/1257 [==============================] - 0s 101us/step - loss: 2.6763e-04\n",
      "Epoch 181/200\n",
      "1257/1257 [==============================] - 0s 114us/step - loss: 2.6846e-04\n",
      "Epoch 182/200\n",
      "1257/1257 [==============================] - 0s 147us/step - loss: 2.6855e-04\n",
      "Epoch 183/200\n",
      "1257/1257 [==============================] - 0s 97us/step - loss: 2.6782e-04\n",
      "Epoch 184/200\n",
      "1257/1257 [==============================] - 0s 98us/step - loss: 2.6708e-04\n",
      "Epoch 185/200\n",
      "1257/1257 [==============================] - 0s 101us/step - loss: 2.6866e-04\n",
      "Epoch 186/200\n",
      "1257/1257 [==============================] - 0s 95us/step - loss: 2.7174e-04\n",
      "Epoch 187/200\n",
      "1257/1257 [==============================] - 0s 91us/step - loss: 2.7383e-04\n",
      "Epoch 188/200\n",
      "1257/1257 [==============================] - 0s 95us/step - loss: 2.6469e-04\n",
      "Epoch 189/200\n",
      "1257/1257 [==============================] - 0s 102us/step - loss: 2.6648e-04\n",
      "Epoch 190/200\n",
      "1257/1257 [==============================] - 0s 96us/step - loss: 2.6448e-04\n",
      "Epoch 191/200\n",
      "1257/1257 [==============================] - 0s 99us/step - loss: 2.6517e-04\n",
      "Epoch 192/200\n",
      "1257/1257 [==============================] - 0s 141us/step - loss: 2.6648e-04\n",
      "Epoch 193/200\n",
      "1257/1257 [==============================] - 0s 122us/step - loss: 2.6670e-04\n",
      "Epoch 194/200\n",
      "1257/1257 [==============================] - 0s 104us/step - loss: 2.7147e-04\n",
      "Epoch 195/200\n",
      "1257/1257 [==============================] - 0s 111us/step - loss: 2.6650e-04\n",
      "Epoch 196/200\n",
      "1257/1257 [==============================] - 0s 109us/step - loss: 2.7004e-04\n",
      "Epoch 197/200\n",
      "1257/1257 [==============================] - 0s 108us/step - loss: 2.6685e-04\n",
      "Epoch 198/200\n",
      "1257/1257 [==============================] - 0s 111us/step - loss: 2.6583e-04\n",
      "Epoch 199/200\n",
      "1257/1257 [==============================] - 0s 100us/step - loss: 2.6641e-04\n",
      "Epoch 200/200\n",
      "1257/1257 [==============================] - 0s 99us/step - loss: 2.6670e-04\n"
     ]
    },
    {
     "data": {
      "text/plain": [
       "<keras.callbacks.History at 0x24140c5a4a8>"
      ]
     },
     "execution_count": 15,
     "metadata": {},
     "output_type": "execute_result"
    }
   ],
   "source": [
    "Regressor.fit(x = X_train, y = y_train, batch_size = 32, epochs = 200)"
   ]
  },
  {
   "cell_type": "markdown",
   "metadata": {},
   "source": [
    "# Making the predictions and visualizing the results\n",
    "\n"
   ]
  },
  {
   "cell_type": "code",
   "execution_count": 16,
   "metadata": {
    "collapsed": true
   },
   "outputs": [],
   "source": [
    "# Getting the stock price of 2017 which is in the Google_Stock_Price_Test.csv file\n",
    "\n",
    "Test_Set = pd.read_csv(\"Google_Stock_Price_Test.csv\")\n",
    "Real_Stock_Price = Test_Set.iloc[:, 1:2].values"
   ]
  },
  {
   "cell_type": "code",
   "execution_count": 18,
   "metadata": {},
   "outputs": [],
   "source": [
    "Inputs = Real_Stock_Price\n",
    "Inputs = Scaler.transform(Inputs)\n",
    "\n",
    "# Reshaping the inputs\n",
    "\n",
    "Inputs = np.reshape(Inputs, (20, 1, 1))"
   ]
  },
  {
   "cell_type": "code",
   "execution_count": 19,
   "metadata": {
    "collapsed": true
   },
   "outputs": [],
   "source": [
    "Predicted_Stock_Price = Regressor.predict(Inputs)"
   ]
  },
  {
   "cell_type": "code",
   "execution_count": 20,
   "metadata": {
    "collapsed": true
   },
   "outputs": [],
   "source": [
    "Predicted_Stock_Price = Scaler.inverse_transform(Predicted_Stock_Price)"
   ]
  },
  {
   "cell_type": "code",
   "execution_count": 21,
   "metadata": {},
   "outputs": [
    {
     "data": {
      "text/plain": [
       "array([[ 775.8505249 ],\n",
       "       [ 784.34130859],\n",
       "       [ 782.32104492],\n",
       "       [ 790.42858887],\n",
       "       [ 800.17279053],\n",
       "       [ 801.44232178],\n",
       "       [ 798.95391846],\n",
       "       [ 800.81646729],\n",
       "       [ 801.11212158],\n",
       "       [ 800.76428223],\n",
       "       [ 799.65936279],\n",
       "       [ 799.05847168],\n",
       "       [ 800.61645508],\n",
       "       [ 800.91204834],\n",
       "       [ 813.90264893],\n",
       "       [ 820.15368652],\n",
       "       [ 827.09594727],\n",
       "       [ 824.47460938],\n",
       "       [ 807.3314209 ],\n",
       "       [ 791.83447266]], dtype=float32)"
      ]
     },
     "execution_count": 21,
     "metadata": {},
     "output_type": "execute_result"
    }
   ],
   "source": [
    "Predicted_Stock_Price"
   ]
  },
  {
   "cell_type": "markdown",
   "metadata": {},
   "source": [
    "# Visualizing the results"
   ]
  },
  {
   "cell_type": "code",
   "execution_count": 22,
   "metadata": {},
   "outputs": [
    {
     "data": {
      "text/plain": [
       "<matplotlib.legend.Legend at 0x2413deb5da0>"
      ]
     },
     "execution_count": 22,
     "metadata": {},
     "output_type": "execute_result"
    },
    {
     "data": {
      "image/png": "[encoded data removed]",
      "text/plain": [
       "<matplotlib.figure.Figure at 0x2413eec9d68>"
      ]
     },
     "metadata": {},
     "output_type": "display_data"
    }
   ],
   "source": [
    "plt.plot(Real_Stock_Price, color = 'red', label = \"Real Google Stock Price\")\n",
    "plt.plot(Predicted_Stock_Price, color = 'blue', label = \"Predicted Google Stock Price\")\n",
    "plt.title(\"Google Stock Price Prediction\")\n",
    "plt.xlabel(\"Time\")\n",
    "plt.ylabel(\"Stock Price\")\n",
    "plt.legend()"
   ]
  },
  {
   "cell_type": "code",
   "execution_count": 28,
   "metadata": {},
   "outputs": [
    {
     "data": {
      "text/plain": [
       "0.8442458075037889"
      ]
     },
     "execution_count": 28,
     "metadata": {},
     "output_type": "execute_result"
    }
   ],
   "source": [
    "# Evaluating the LSTM\n",
    "\n",
    "import math\n",
    "from sklearn.metrics import mean_squared_error\n",
    "MSE = math.sqrt(mean_squared_error(Real_Stock_Price, Predicted_Stock_Price))\n",
    "MSE = (MSE/800) * 100 # 800 is the average value of the Google stock price\n",
    "MSE"
   ]
  },
  {
   "cell_type": "markdown",
   "metadata": {},
   "source": [
    "# Conclusion: -\n",
    "## One has to take note that this is a \"One-time-step\" prediction, meaning that we can only predict the stock price of next day if we have its price the previous day. This will not help us make money, but is a good tool to know xD"
   ]
  },
  {
   "cell_type": "code",
   "execution_count": null,
   "metadata": {
    "collapsed": true
   },
   "outputs": [],
   "source": []
  }
 ],
 "metadata": {
  "kernelspec": {
   "display_name": "Python 3",
   "language": "python",
   "name": "python3"
  },
  "language_info": {
   "codemirror_mode": {
    "name": "ipython",
    "version": 3
   },
   "file_extension": ".py",
   "mimetype": "text/x-python",
   "name": "python",
   "nbconvert_exporter": "python",
   "pygments_lexer": "ipython3",
   "version": "3.6.1"
  }
 },
 "nbformat": 4,
 "nbformat_minor": 2
}
