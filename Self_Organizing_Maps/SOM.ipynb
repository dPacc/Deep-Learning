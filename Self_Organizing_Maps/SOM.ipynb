{
 "cells": [
  {
   "cell_type": "markdown",
   "metadata": {},
   "source": [
    "# Self Organizing Map"
   ]
  },
  {
   "cell_type": "markdown",
   "metadata": {},
   "source": [
    "### We will use the SOM for Fraud Detection\n",
    "### Lets say you are a ML engineer at a bank and you are given a dataset that contains information about customers from this bank applying for an advanced credit-card, our mission is to detect potential frauds"
   ]
  },
  {
   "cell_type": "code",
   "execution_count": 1,
   "metadata": {},
   "outputs": [],
   "source": [
    "# Importing the libraries\n",
    "\n",
    "import numpy as np\n",
    "import pandas as pd\n",
    "import matplotlib.pyplot as plt\n",
    "%matplotlib inline"
   ]
  },
  {
   "cell_type": "code",
   "execution_count": 2,
   "metadata": {},
   "outputs": [],
   "source": [
    "# Importing the dataset\n",
    "\n",
    "dataset = pd.read_csv('Credit_Card_Applications.csv')"
   ]
  },
  {
   "cell_type": "code",
   "execution_count": 3,
   "metadata": {},
   "outputs": [
    {
     "data": {
      "text/html": [
       "<div>\n",
       "<style scoped>\n",
       "    .dataframe tbody tr th:only-of-type {\n",
       "        vertical-align: middle;\n",
       "    }\n",
       "\n",
       "    .dataframe tbody tr th {\n",
       "        vertical-align: top;\n",
       "    }\n",
       "\n",
       "    .dataframe thead th {\n",
       "        text-align: right;\n",
       "    }\n",
       "</style>\n",
       "<table border=\"1\" class=\"dataframe\">\n",
       "  <thead>\n",
       "    <tr style=\"text-align: right;\">\n",
       "      <th></th>\n",
       "      <th>CustomerID</th>\n",
       "      <th>A1</th>\n",
       "      <th>A2</th>\n",
       "      <th>A3</th>\n",
       "      <th>A4</th>\n",
       "      <th>A5</th>\n",
       "      <th>A6</th>\n",
       "      <th>A7</th>\n",
       "      <th>A8</th>\n",
       "      <th>A9</th>\n",
       "      <th>A10</th>\n",
       "      <th>A11</th>\n",
       "      <th>A12</th>\n",
       "      <th>A13</th>\n",
       "      <th>A14</th>\n",
       "      <th>Class</th>\n",
       "    </tr>\n",
       "  </thead>\n",
       "  <tbody>\n",
       "    <tr>\n",
       "      <th>0</th>\n",
       "      <td>15776156</td>\n",
       "      <td>1</td>\n",
       "      <td>22.08</td>\n",
       "      <td>11.46</td>\n",
       "      <td>2</td>\n",
       "      <td>4</td>\n",
       "      <td>4</td>\n",
       "      <td>1.585</td>\n",
       "      <td>0</td>\n",
       "      <td>0</td>\n",
       "      <td>0</td>\n",
       "      <td>1</td>\n",
       "      <td>2</td>\n",
       "      <td>100</td>\n",
       "      <td>1213</td>\n",
       "      <td>0</td>\n",
       "    </tr>\n",
       "    <tr>\n",
       "      <th>1</th>\n",
       "      <td>15739548</td>\n",
       "      <td>0</td>\n",
       "      <td>22.67</td>\n",
       "      <td>7.00</td>\n",
       "      <td>2</td>\n",
       "      <td>8</td>\n",
       "      <td>4</td>\n",
       "      <td>0.165</td>\n",
       "      <td>0</td>\n",
       "      <td>0</td>\n",
       "      <td>0</td>\n",
       "      <td>0</td>\n",
       "      <td>2</td>\n",
       "      <td>160</td>\n",
       "      <td>1</td>\n",
       "      <td>0</td>\n",
       "    </tr>\n",
       "    <tr>\n",
       "      <th>2</th>\n",
       "      <td>15662854</td>\n",
       "      <td>0</td>\n",
       "      <td>29.58</td>\n",
       "      <td>1.75</td>\n",
       "      <td>1</td>\n",
       "      <td>4</td>\n",
       "      <td>4</td>\n",
       "      <td>1.250</td>\n",
       "      <td>0</td>\n",
       "      <td>0</td>\n",
       "      <td>0</td>\n",
       "      <td>1</td>\n",
       "      <td>2</td>\n",
       "      <td>280</td>\n",
       "      <td>1</td>\n",
       "      <td>0</td>\n",
       "    </tr>\n",
       "    <tr>\n",
       "      <th>3</th>\n",
       "      <td>15687688</td>\n",
       "      <td>0</td>\n",
       "      <td>21.67</td>\n",
       "      <td>11.50</td>\n",
       "      <td>1</td>\n",
       "      <td>5</td>\n",
       "      <td>3</td>\n",
       "      <td>0.000</td>\n",
       "      <td>1</td>\n",
       "      <td>1</td>\n",
       "      <td>11</td>\n",
       "      <td>1</td>\n",
       "      <td>2</td>\n",
       "      <td>0</td>\n",
       "      <td>1</td>\n",
       "      <td>1</td>\n",
       "    </tr>\n",
       "    <tr>\n",
       "      <th>4</th>\n",
       "      <td>15715750</td>\n",
       "      <td>1</td>\n",
       "      <td>20.17</td>\n",
       "      <td>8.17</td>\n",
       "      <td>2</td>\n",
       "      <td>6</td>\n",
       "      <td>4</td>\n",
       "      <td>1.960</td>\n",
       "      <td>1</td>\n",
       "      <td>1</td>\n",
       "      <td>14</td>\n",
       "      <td>0</td>\n",
       "      <td>2</td>\n",
       "      <td>60</td>\n",
       "      <td>159</td>\n",
       "      <td>1</td>\n",
       "    </tr>\n",
       "  </tbody>\n",
       "</table>\n",
       "</div>"
      ],
      "text/plain": [
       "   CustomerID  A1     A2     A3  A4  A5  A6     A7  A8  A9  A10  A11  A12  \\\n",
       "0    15776156   1  22.08  11.46   2   4   4  1.585   0   0    0    1    2   \n",
       "1    15739548   0  22.67   7.00   2   8   4  0.165   0   0    0    0    2   \n",
       "2    15662854   0  29.58   1.75   1   4   4  1.250   0   0    0    1    2   \n",
       "3    15687688   0  21.67  11.50   1   5   3  0.000   1   1   11    1    2   \n",
       "4    15715750   1  20.17   8.17   2   6   4  1.960   1   1   14    0    2   \n",
       "\n",
       "   A13   A14  Class  \n",
       "0  100  1213      0  \n",
       "1  160     1      0  \n",
       "2  280     1      0  \n",
       "3    0     1      1  \n",
       "4   60   159      1  "
      ]
     },
     "execution_count": 3,
     "metadata": {},
     "output_type": "execute_result"
    }
   ],
   "source": [
    "dataset.head()"
   ]
  },
  {
   "cell_type": "code",
   "execution_count": 4,
   "metadata": {},
   "outputs": [],
   "source": [
    "X = dataset.iloc[:, :-1].values\n",
    "y = dataset.iloc[:, -1].values"
   ]
  },
  {
   "cell_type": "markdown",
   "metadata": {},
   "source": [
    "### Remember we didnt split the dataset into X and y, to predict y. It is done so to make a distinction in the end  between customers who were approved and the ones who weren't. Therefore while training, we will only use X."
   ]
  },
  {
   "cell_type": "code",
   "execution_count": 7,
   "metadata": {},
   "outputs": [],
   "source": [
    "# Feature Scaling\n",
    "\n",
    "from sklearn.preprocessing import MinMaxScaler\n",
    "sc = MinMaxScaler(feature_range = (0, 1))\n",
    "X = sc.fit_transform(X)"
   ]
  },
  {
   "cell_type": "code",
   "execution_count": 8,
   "metadata": {},
   "outputs": [],
   "source": [
    "# Training the SOM\n",
    "\n",
    "from minisom import MiniSom"
   ]
  },
  {
   "cell_type": "code",
   "execution_count": 9,
   "metadata": {},
   "outputs": [],
   "source": [
    "SOM = MiniSom(x=10, y=10, input_len=15, sigma=1.0, learning_rate=0.5)"
   ]
  },
  {
   "cell_type": "code",
   "execution_count": 10,
   "metadata": {},
   "outputs": [],
   "source": [
    "SOM.random_weights_init(X)\n",
    "SOM.train_random(data=X, num_iteration=100)"
   ]
  },
  {
   "cell_type": "code",
   "execution_count": 14,
   "metadata": {},
   "outputs": [
    {
     "name": "stdout",
     "output_type": "stream",
     "text": [
      "Populating the interactive namespace from numpy and matplotlib\n"
     ]
    }
   ],
   "source": [
    "# Visualizing the Results\n",
    "\n",
    "from pylab import bone, pcolor, colorbar, plot, show\n",
    "%pylab inline"
   ]
  },
  {
   "cell_type": "code",
   "execution_count": 26,
   "metadata": {},
   "outputs": [
    {
     "data": {
      "image/png": "[encoded data removed]",
      "text/plain": [
       "<Figure size 432x288 with 2 Axes>"
      ]
     },
     "metadata": {
      "needs_background": "light"
     },
     "output_type": "display_data"
    }
   ],
   "source": [
    "bone()\n",
    "pcolor(SOM.distance_map().T)\n",
    "colorbar()\n",
    "markers = ['o', 's']\n",
    "colors = ['r', 'g']\n",
    "\n",
    "for i, x in enumerate(X):\n",
    "    w = SOM.winner(x)\n",
    "    plot(w[0] + 0.5, \n",
    "         w[1] + 0.5, \n",
    "         markers[y[i]], \n",
    "         markeredgecolor = colors[y[i]],\n",
    "         markerfacecolor = 'None',\n",
    "         markersize = 10,\n",
    "         markeredgewidth = 2)"
   ]
  },
  {
   "cell_type": "markdown",
   "metadata": {},
   "source": [
    "### All the different colors corresponds to the MID(Mean Inter-Neuron Distances)\n",
    "\n",
    "### The white colored boxes are the outliers/frauds"
   ]
  },
  {
   "cell_type": "code",
   "execution_count": 29,
   "metadata": {},
   "outputs": [],
   "source": [
    "# Finding the frauds\n",
    "\n",
    "mappings = SOM.win_map(X)"
   ]
  },
  {
   "cell_type": "code",
   "execution_count": 33,
   "metadata": {},
   "outputs": [],
   "source": [
    "frauds = np.concatenate((mappings[(5, 1)], mappings[(7, 9)]), axis=0)"
   ]
  },
  {
   "cell_type": "code",
   "execution_count": 34,
   "metadata": {},
   "outputs": [],
   "source": [
    "frauds = sc.inverse_transform(frauds)"
   ]
  },
  {
   "cell_type": "code",
   "execution_count": 35,
   "metadata": {},
   "outputs": [
    {
     "data": {
      "text/plain": [
       "array([[1.5808662e+07, 0.0000000e+00, 4.6000000e+01, 4.0000000e+00,\n",
       "        2.0000000e+00, 5.0000000e+00, 3.0000000e+00, 0.0000000e+00,\n",
       "        1.0000000e+00, 0.0000000e+00, 0.0000000e+00, 0.0000000e+00,\n",
       "        2.0000000e+00, 1.0000000e+02, 9.6100000e+02],\n",
       "       [1.5757188e+07, 0.0000000e+00, 2.0830000e+01, 3.0000000e+00,\n",
       "        2.0000000e+00, 6.0000000e+00, 4.0000000e+00, 4.0000000e-02,\n",
       "        1.0000000e+00, 0.0000000e+00, 0.0000000e+00, 0.0000000e+00,\n",
       "        2.0000000e+00, 1.0000000e+02, 1.0000000e+00],\n",
       "       [1.5752344e+07, 0.0000000e+00, 2.1080000e+01, 5.0000000e+00,\n",
       "        1.0000000e+00, 1.0000000e+00, 1.0000000e+00, 0.0000000e+00,\n",
       "        0.0000000e+00, 0.0000000e+00, 0.0000000e+00, 0.0000000e+00,\n",
       "        2.0000000e+00, 0.0000000e+00, 1.0000000e+00],\n",
       "       [1.5776545e+07, 0.0000000e+00, 2.5000000e+01, 1.1000000e+01,\n",
       "        1.0000000e+00, 6.0000000e+00, 4.0000000e+00, 4.5000000e+00,\n",
       "        1.0000000e+00, 0.0000000e+00, 0.0000000e+00, 0.0000000e+00,\n",
       "        2.0000000e+00, 1.2000000e+02, 1.0000000e+00],\n",
       "       [1.5792107e+07, 0.0000000e+00, 3.3920000e+01, 1.5850000e+00,\n",
       "        1.0000000e+00, 1.0000000e+00, 1.0000000e+00, 0.0000000e+00,\n",
       "        1.0000000e+00, 0.0000000e+00, 0.0000000e+00, 0.0000000e+00,\n",
       "        2.0000000e+00, 3.2000000e+02, 1.0000000e+00],\n",
       "       [1.5813192e+07, 0.0000000e+00, 2.4920000e+01, 1.2500000e+00,\n",
       "        2.0000000e+00, 1.0000000e+00, 1.0000000e+00, 0.0000000e+00,\n",
       "        1.0000000e+00, 0.0000000e+00, 0.0000000e+00, 0.0000000e+00,\n",
       "        2.0000000e+00, 8.0000000e+01, 1.0000000e+00],\n",
       "       [1.5570990e+07, 1.0000000e+00, 2.9420000e+01, 1.2500000e+00,\n",
       "        2.0000000e+00, 8.0000000e+00, 8.0000000e+00, 2.5000000e-01,\n",
       "        0.0000000e+00, 1.0000000e+00, 2.0000000e+00, 1.0000000e+00,\n",
       "        2.0000000e+00, 4.0000000e+02, 1.0900000e+02],\n",
       "       [1.5694237e+07, 1.0000000e+00, 2.9580000e+01, 4.7500000e+00,\n",
       "        2.0000000e+00, 7.0000000e+00, 4.0000000e+00, 2.0000000e+00,\n",
       "        0.0000000e+00, 1.0000000e+00, 1.0000000e+00, 1.0000000e+00,\n",
       "        2.0000000e+00, 4.6000000e+02, 6.9000000e+01],\n",
       "       [1.5692718e+07, 1.0000000e+00, 2.2170000e+01, 1.2125000e+01,\n",
       "        2.0000000e+00, 8.0000000e+00, 4.0000000e+00, 3.3350000e+00,\n",
       "        0.0000000e+00, 1.0000000e+00, 2.0000000e+00, 1.0000000e+00,\n",
       "        2.0000000e+00, 1.8000000e+02, 1.7400000e+02],\n",
       "       [1.5618703e+07, 1.0000000e+00, 2.5670000e+01, 3.2500000e+00,\n",
       "        2.0000000e+00, 8.0000000e+00, 8.0000000e+00, 2.2900000e+00,\n",
       "        0.0000000e+00, 1.0000000e+00, 1.0000000e+00, 1.0000000e+00,\n",
       "        2.0000000e+00, 4.1600000e+02, 2.2000000e+01],\n",
       "       [1.5757933e+07, 1.0000000e+00, 3.1080000e+01, 3.0850000e+00,\n",
       "        2.0000000e+00, 8.0000000e+00, 4.0000000e+00, 2.5000000e+00,\n",
       "        0.0000000e+00, 1.0000000e+00, 2.0000000e+00, 1.0000000e+00,\n",
       "        2.0000000e+00, 1.6000000e+02, 4.2000000e+01],\n",
       "       [1.5677395e+07, 1.0000000e+00, 1.9330000e+01, 1.0915000e+01,\n",
       "        2.0000000e+00, 8.0000000e+00, 5.0000000e+00, 5.8500000e-01,\n",
       "        0.0000000e+00, 1.0000000e+00, 2.0000000e+00, 1.0000000e+00,\n",
       "        2.0000000e+00, 2.0000000e+02, 8.0000000e+00],\n",
       "       [1.5583724e+07, 1.0000000e+00, 2.5920000e+01, 8.7500000e-01,\n",
       "        2.0000000e+00, 4.0000000e+00, 4.0000000e+00, 3.7500000e-01,\n",
       "        0.0000000e+00, 1.0000000e+00, 2.0000000e+00, 1.0000000e+00,\n",
       "        2.0000000e+00, 1.7400000e+02, 4.0000000e+00]])"
      ]
     },
     "execution_count": 35,
     "metadata": {},
     "output_type": "execute_result"
    }
   ],
   "source": [
    "frauds"
   ]
  },
  {
   "cell_type": "markdown",
   "metadata": {},
   "source": [
    "# These are the potential frauds"
   ]
  },
  {
   "cell_type": "code",
   "execution_count": null,
   "metadata": {},
   "outputs": [],
   "source": []
  }
 ],
 "metadata": {
  "kernelspec": {
   "display_name": "Python 3",
   "language": "python",
   "name": "python3"
  },
  "language_info": {
   "codemirror_mode": {
    "name": "ipython",
    "version": 3
   },
   "file_extension": ".py",
   "mimetype": "text/x-python",
   "name": "python",
   "nbconvert_exporter": "python",
   "pygments_lexer": "ipython3",
   "version": "3.6.6"
  }
 },
 "nbformat": 4,
 "nbformat_minor": 2
}
